{
 "cells": [
  {
   "attachments": {},
   "cell_type": "markdown",
   "id": "f4dd5721",
   "metadata": {},
   "source": [
    "# Download the data"
   ]
  },
  {
   "cell_type": "code",
   "execution_count": 24,
   "id": "60d506ae",
   "metadata": {},
   "outputs": [],
   "source": [
    "# https://www.kaggle.com/datasets/sakshigoyal7/credit-card-customers"
   ]
  },
  {
   "cell_type": "code",
   "execution_count": 25,
   "id": "8b5c30b1",
   "metadata": {},
   "outputs": [],
   "source": [
    "# !kaggle datasets download -d sakshigoyal7/credit-card-customers"
   ]
  },
  {
   "cell_type": "code",
   "execution_count": 26,
   "id": "92d687c1",
   "metadata": {},
   "outputs": [],
   "source": [
    "# ls"
   ]
  },
  {
   "cell_type": "code",
   "execution_count": 27,
   "id": "bbef17ac",
   "metadata": {},
   "outputs": [],
   "source": [
    "# !unzip credit-card-customers.zip"
   ]
  },
  {
   "cell_type": "code",
   "execution_count": 28,
   "id": "85690076",
   "metadata": {},
   "outputs": [],
   "source": [
    "# ls"
   ]
  },
  {
   "attachments": {},
   "cell_type": "markdown",
   "id": "f09dbf81",
   "metadata": {},
   "source": [
    "# Read the data"
   ]
  },
  {
   "cell_type": "code",
   "execution_count": 2,
   "id": "144628f0",
   "metadata": {},
   "outputs": [],
   "source": [
    "import pandas as pd"
   ]
  },
  {
   "cell_type": "code",
   "execution_count": 3,
   "id": "316c60dc",
   "metadata": {},
   "outputs": [],
   "source": [
    "df = pd.read_csv('BankChurners.csv')\n",
    "\n",
    "# We will drop two last columns from the table\n",
    "df = df.drop([\n",
    "    'Naive_Bayes_Classifier_Attrition_Flag_Card_Category_Contacts_Count_12_mon_Dependent_count_Education_Level_Months_Inactive_12_mon_1',\n",
    "    'Naive_Bayes_Classifier_Attrition_Flag_Card_Category_Contacts_Count_12_mon_Dependent_count_Education_Level_Months_Inactive_12_mon_2'], \n",
    "    axis=1)"
   ]
  },
  {
   "cell_type": "code",
   "execution_count": 4,
   "id": "08732d15",
   "metadata": {},
   "outputs": [
    {
     "data": {
      "text/html": [
       "<div>\n",
       "<style scoped>\n",
       "    .dataframe tbody tr th:only-of-type {\n",
       "        vertical-align: middle;\n",
       "    }\n",
       "\n",
       "    .dataframe tbody tr th {\n",
       "        vertical-align: top;\n",
       "    }\n",
       "\n",
       "    .dataframe thead th {\n",
       "        text-align: right;\n",
       "    }\n",
       "</style>\n",
       "<table border=\"1\" class=\"dataframe\">\n",
       "  <thead>\n",
       "    <tr style=\"text-align: right;\">\n",
       "      <th></th>\n",
       "      <th>CLIENTNUM</th>\n",
       "      <th>Attrition_Flag</th>\n",
       "      <th>Customer_Age</th>\n",
       "      <th>Gender</th>\n",
       "      <th>Dependent_count</th>\n",
       "      <th>Education_Level</th>\n",
       "      <th>Marital_Status</th>\n",
       "      <th>Income_Category</th>\n",
       "      <th>Card_Category</th>\n",
       "      <th>Months_on_book</th>\n",
       "      <th>...</th>\n",
       "      <th>Months_Inactive_12_mon</th>\n",
       "      <th>Contacts_Count_12_mon</th>\n",
       "      <th>Credit_Limit</th>\n",
       "      <th>Total_Revolving_Bal</th>\n",
       "      <th>Avg_Open_To_Buy</th>\n",
       "      <th>Total_Amt_Chng_Q4_Q1</th>\n",
       "      <th>Total_Trans_Amt</th>\n",
       "      <th>Total_Trans_Ct</th>\n",
       "      <th>Total_Ct_Chng_Q4_Q1</th>\n",
       "      <th>Avg_Utilization_Ratio</th>\n",
       "    </tr>\n",
       "  </thead>\n",
       "  <tbody>\n",
       "    <tr>\n",
       "      <th>0</th>\n",
       "      <td>768805383</td>\n",
       "      <td>Existing Customer</td>\n",
       "      <td>45</td>\n",
       "      <td>M</td>\n",
       "      <td>3</td>\n",
       "      <td>High School</td>\n",
       "      <td>Married</td>\n",
       "      <td>$60K - $80K</td>\n",
       "      <td>Blue</td>\n",
       "      <td>39</td>\n",
       "      <td>...</td>\n",
       "      <td>1</td>\n",
       "      <td>3</td>\n",
       "      <td>12691.0</td>\n",
       "      <td>777</td>\n",
       "      <td>11914.0</td>\n",
       "      <td>1.335</td>\n",
       "      <td>1144</td>\n",
       "      <td>42</td>\n",
       "      <td>1.625</td>\n",
       "      <td>0.061</td>\n",
       "    </tr>\n",
       "    <tr>\n",
       "      <th>1</th>\n",
       "      <td>818770008</td>\n",
       "      <td>Existing Customer</td>\n",
       "      <td>49</td>\n",
       "      <td>F</td>\n",
       "      <td>5</td>\n",
       "      <td>Graduate</td>\n",
       "      <td>Single</td>\n",
       "      <td>Less than $40K</td>\n",
       "      <td>Blue</td>\n",
       "      <td>44</td>\n",
       "      <td>...</td>\n",
       "      <td>1</td>\n",
       "      <td>2</td>\n",
       "      <td>8256.0</td>\n",
       "      <td>864</td>\n",
       "      <td>7392.0</td>\n",
       "      <td>1.541</td>\n",
       "      <td>1291</td>\n",
       "      <td>33</td>\n",
       "      <td>3.714</td>\n",
       "      <td>0.105</td>\n",
       "    </tr>\n",
       "    <tr>\n",
       "      <th>2</th>\n",
       "      <td>713982108</td>\n",
       "      <td>Existing Customer</td>\n",
       "      <td>51</td>\n",
       "      <td>M</td>\n",
       "      <td>3</td>\n",
       "      <td>Graduate</td>\n",
       "      <td>Married</td>\n",
       "      <td>$80K - $120K</td>\n",
       "      <td>Blue</td>\n",
       "      <td>36</td>\n",
       "      <td>...</td>\n",
       "      <td>1</td>\n",
       "      <td>0</td>\n",
       "      <td>3418.0</td>\n",
       "      <td>0</td>\n",
       "      <td>3418.0</td>\n",
       "      <td>2.594</td>\n",
       "      <td>1887</td>\n",
       "      <td>20</td>\n",
       "      <td>2.333</td>\n",
       "      <td>0.000</td>\n",
       "    </tr>\n",
       "  </tbody>\n",
       "</table>\n",
       "<p>3 rows × 21 columns</p>\n",
       "</div>"
      ],
      "text/plain": [
       "   CLIENTNUM     Attrition_Flag  Customer_Age Gender  Dependent_count   \n",
       "0  768805383  Existing Customer            45      M                3  \\\n",
       "1  818770008  Existing Customer            49      F                5   \n",
       "2  713982108  Existing Customer            51      M                3   \n",
       "\n",
       "  Education_Level Marital_Status Income_Category Card_Category   \n",
       "0     High School        Married     $60K - $80K          Blue  \\\n",
       "1        Graduate         Single  Less than $40K          Blue   \n",
       "2        Graduate        Married    $80K - $120K          Blue   \n",
       "\n",
       "   Months_on_book  ...  Months_Inactive_12_mon  Contacts_Count_12_mon   \n",
       "0              39  ...                       1                      3  \\\n",
       "1              44  ...                       1                      2   \n",
       "2              36  ...                       1                      0   \n",
       "\n",
       "   Credit_Limit  Total_Revolving_Bal  Avg_Open_To_Buy  Total_Amt_Chng_Q4_Q1   \n",
       "0       12691.0                  777          11914.0                 1.335  \\\n",
       "1        8256.0                  864           7392.0                 1.541   \n",
       "2        3418.0                    0           3418.0                 2.594   \n",
       "\n",
       "   Total_Trans_Amt  Total_Trans_Ct  Total_Ct_Chng_Q4_Q1  Avg_Utilization_Ratio  \n",
       "0             1144              42                1.625                  0.061  \n",
       "1             1291              33                3.714                  0.105  \n",
       "2             1887              20                2.333                  0.000  \n",
       "\n",
       "[3 rows x 21 columns]"
      ]
     },
     "execution_count": 4,
     "metadata": {},
     "output_type": "execute_result"
    }
   ],
   "source": [
    "df.head(3)"
   ]
  },
  {
   "attachments": {},
   "cell_type": "markdown",
   "id": "a5ab9bbc",
   "metadata": {},
   "source": [
    "# Columns description\n",
    "\n",
    "- CLIENTNUM - Client number. Unique identifier for the customer holding the account\n",
    "- Attrition_Flag - Internal event (customer activity) variable, Existing Customer or Attrited Customer\n",
    "- Customer_Age - Demographic variable - Customer's Age in Years\n",
    "- Gender - Demographic variable - M=Male, F=Female\n",
    "- Dependent_count - Demographic variable - Number of dependents\n",
    "- Education_Level - Demographic variable - Educational Qualification of the account holder (example: high school, college graduate, etc.)\n",
    "- Marital_Status - Demographic variable - Married, Single, Divorced, Unknown\n",
    "- Income_Category - Demographic variable - Annual Income Category of the account holder (< $40K, $40K - 60K, $60K - $80K, $80K-$120K, > \n",
    "- Card_Category - Product Variable - Type of Card (Blue, Silver, Gold, Platinum)\n",
    "- Months_on_book - Period of relationship with bank\n",
    "- Total_Relationship_Count - Total no. of products held by the customer\n",
    "- Months_Inactive_12_mon - No. of months inactive in the last 12 months\n",
    "- Contacts_Count_12_mon - No. of Contacts in the last 12 months\n",
    "- Credit_Limit - Credit Limit on the Credit Card\n",
    "- Total_Revolving_Bal - Total Revolving Balance on the Credit Card\n",
    "- Avg_Open_To_Buy - Open to Buy Credit Line (Average of last 12 months)\n",
    "- Total_Amt_Chng_Q4_Q1 - Change in Transaction Amount (Q4 over Q1) \n",
    "- Total_Trans_Amt - Total Transaction Amount (Last 12 months)\n",
    "- Total_Trans_Ct - Total Transaction Count (Last 12 months)\n",
    "- Total_Ct_Chng_Q4_Q1 - Change in Transaction Count (Q4 over Q1) \n",
    "- Avg_Utilization_Ratio - Average Card Utilization Ratio\n",
    "\n",
    "Your goal is to predict whether the client will churn or not. "
   ]
  },
  {
   "attachments": {},
   "cell_type": "markdown",
   "id": "1fb23b1d",
   "metadata": {},
   "source": [
    "# 1. What is the target column?\n",
    "\n",
    "- Attrition_Flag\n",
    "- Marital_Status\n",
    "- Gender\n",
    "- Months_on_book\n",
    "- Avg_Utilization_Ratio"
   ]
  },
  {
   "cell_type": "code",
   "execution_count": 5,
   "id": "b7210854",
   "metadata": {},
   "outputs": [
    {
     "name": "stdout",
     "output_type": "stream",
     "text": [
      "['Existing Customer' 'Attrited Customer']\n"
     ]
    }
   ],
   "source": [
    "print(df['Attrition_Flag'].unique())"
   ]
  },
  {
   "cell_type": "code",
   "execution_count": 6,
   "id": "3a48a0ac",
   "metadata": {},
   "outputs": [
    {
     "data": {
      "text/plain": [
       "Attrition_Flag\n",
       "Existing Customer    8500\n",
       "Attrited Customer    1627\n",
       "Name: count, dtype: int64"
      ]
     },
     "execution_count": 6,
     "metadata": {},
     "output_type": "execute_result"
    }
   ],
   "source": [
    "df['Attrition_Flag'].value_counts()"
   ]
  },
  {
   "attachments": {},
   "cell_type": "markdown",
   "id": "38f9812a",
   "metadata": {},
   "source": [
    "# 2. Transform target column\n",
    "\n",
    "Transform target column to 1/0 format, 1 if the client will churn, 0 otherwise. What is the percetange of churned customers?"
   ]
  },
  {
   "cell_type": "code",
   "execution_count": 7,
   "id": "54045256",
   "metadata": {},
   "outputs": [
    {
     "data": {
      "text/plain": [
       "Attrition_Flag\n",
       "0    8500\n",
       "1    1627\n",
       "Name: count, dtype: int64"
      ]
     },
     "execution_count": 7,
     "metadata": {},
     "output_type": "execute_result"
    }
   ],
   "source": [
    "df['Attrition_Flag'].replace({'Existing Customer': 0, 'Attrited Customer': 1}, inplace=True)\n",
    "df['Attrition_Flag'].value_counts()"
   ]
  },
  {
   "cell_type": "code",
   "execution_count": 8,
   "id": "4d4033bd",
   "metadata": {},
   "outputs": [
    {
     "name": "stdout",
     "output_type": "stream",
     "text": [
      "16.07 %\n"
     ]
    }
   ],
   "source": [
    "percent = df['Attrition_Flag'].value_counts()[1] / df['Attrition_Flag'].shape[0] * 100\n",
    "print(round(percent, 2), \"%\")"
   ]
  },
  {
   "attachments": {},
   "cell_type": "markdown",
   "id": "e584792b",
   "metadata": {},
   "source": [
    "# Drop `CLIENTNUM` column, as all clients are unique"
   ]
  },
  {
   "cell_type": "code",
   "execution_count": 9,
   "id": "6b5341a2",
   "metadata": {},
   "outputs": [],
   "source": [
    "df = df.drop('CLIENTNUM', axis=1)"
   ]
  },
  {
   "attachments": {},
   "cell_type": "markdown",
   "id": "55b42e0d",
   "metadata": {},
   "source": [
    "# 3. Analyse columns, which are numerical, which are categorical?\n",
    "\n",
    "How many numerical and categorical columns do you have (excluding target variable)\n"
   ]
  },
  {
   "attachments": {},
   "cell_type": "markdown",
   "id": "877bdc4b",
   "metadata": {},
   "source": [
    "- 5 categorical columns and 14 numerical"
   ]
  },
  {
   "attachments": {},
   "cell_type": "markdown",
   "id": "f66c16da",
   "metadata": {},
   "source": [
    "# 4. Perform EDA (optional)\n",
    "\n",
    "Plot 1-5 Graphs looking for interesting data patterns. Each graph must contain a short description. You can use ChatGPT to generate ideas for graphs. If you use ChatGPT include your prompt into the document. Each of 5 graphs worth 1 point.\n",
    "\n",
    "Checklist:\n",
    "1. For each graph:\n",
    "    1. Graph\n",
    "        - has title\n",
    "        - has labels for OX and OY \n",
    "        - has legend\n",
    "    2. Graph description (<100 words)\n",
    "    3. ChatGPT prompt included (if you've used one)\n",
    "2. All graphs in a single pdf document\n",
    "\n",
    "Put all graphs into a single doc file, save it as pdf and upload to the google form. For reference, this whole text is 105 words."
   ]
  },
  {
   "cell_type": "code",
   "execution_count": 10,
   "id": "ca5472e3",
   "metadata": {},
   "outputs": [
    {
     "data": {
      "text/plain": [
       "(10127, 20)"
      ]
     },
     "execution_count": 10,
     "metadata": {},
     "output_type": "execute_result"
    }
   ],
   "source": [
    "df.shape"
   ]
  },
  {
   "attachments": {},
   "cell_type": "markdown",
   "id": "9eda4c7e",
   "metadata": {},
   "source": [
    "#  5. What are the different ways to handle categorical columns?\n",
    "\n",
    "\n",
    "Before training machine learning algorithm we need to convert categorical columns\n",
    "\n"
   ]
  },
  {
   "attachments": {},
   "cell_type": "markdown",
   "id": "8455e36f",
   "metadata": {},
   "source": [
    "There are several ways to handle categorical columns:\n",
    "\n",
    "1. One-Hot Encoding: This technique creates a binary column for each category in the categorical variable. \n",
    "2. Label Encoding: This technique assigns a numerical value to each category in the categorical variable.\n",
    "3. Ordinal Encoding: This technique assigns a numerical value to each category in the categorical variable based on the order of importance or hierarchy. \n",
    "4. Binary Encoding: This technique creates binary columns for each category in the categorical variable, but instead of using a one-hot encoding, it uses binary digits to represent the categories. "
   ]
  },
  {
   "attachments": {},
   "cell_type": "markdown",
   "id": "588def7a",
   "metadata": {},
   "source": [
    "# 6. Encode categorical columns with 1-hot encoding\n",
    "\n",
    "How many binary columns after encoding do you have? Use `OneHotEncoder` from `slearn.preprocessing` module with `sparse=False` parameter. See example below.\n"
   ]
  },
  {
   "cell_type": "code",
   "execution_count": 11,
   "id": "f4f05693",
   "metadata": {},
   "outputs": [
    {
     "data": {
      "text/html": [
       "<div>\n",
       "<style scoped>\n",
       "    .dataframe tbody tr th:only-of-type {\n",
       "        vertical-align: middle;\n",
       "    }\n",
       "\n",
       "    .dataframe tbody tr th {\n",
       "        vertical-align: top;\n",
       "    }\n",
       "\n",
       "    .dataframe thead th {\n",
       "        text-align: right;\n",
       "    }\n",
       "</style>\n",
       "<table border=\"1\" class=\"dataframe\">\n",
       "  <thead>\n",
       "    <tr style=\"text-align: right;\">\n",
       "      <th></th>\n",
       "      <th>Sex</th>\n",
       "      <th>Age</th>\n",
       "    </tr>\n",
       "  </thead>\n",
       "  <tbody>\n",
       "    <tr>\n",
       "      <th>0</th>\n",
       "      <td>Male</td>\n",
       "      <td>1</td>\n",
       "    </tr>\n",
       "    <tr>\n",
       "      <th>1</th>\n",
       "      <td>Female</td>\n",
       "      <td>3</td>\n",
       "    </tr>\n",
       "    <tr>\n",
       "      <th>2</th>\n",
       "      <td>Female</td>\n",
       "      <td>2</td>\n",
       "    </tr>\n",
       "  </tbody>\n",
       "</table>\n",
       "</div>"
      ],
      "text/plain": [
       "      Sex  Age\n",
       "0    Male    1\n",
       "1  Female    3\n",
       "2  Female    2"
      ]
     },
     "execution_count": 11,
     "metadata": {},
     "output_type": "execute_result"
    }
   ],
   "source": [
    "# Example dataframe\n",
    "df_example = pd.DataFrame([['Male', 1], ['Female', 3], ['Female', 2]], columns=['Sex', 'Age'])\n",
    "df_example"
   ]
  },
  {
   "cell_type": "code",
   "execution_count": 12,
   "id": "909f41cb",
   "metadata": {},
   "outputs": [
    {
     "name": "stderr",
     "output_type": "stream",
     "text": [
      "/Users/alexglushko/PycharmProjects/ds-for-business/venv/lib/python3.9/site-packages/sklearn/preprocessing/_encoders.py:868: FutureWarning: `sparse` was renamed to `sparse_output` in version 1.2 and will be removed in 1.4. `sparse_output` is ignored unless you leave `sparse` to its default value.\n",
      "  warnings.warn(\n"
     ]
    },
    {
     "data": {
      "text/html": [
       "<div>\n",
       "<style scoped>\n",
       "    .dataframe tbody tr th:only-of-type {\n",
       "        vertical-align: middle;\n",
       "    }\n",
       "\n",
       "    .dataframe tbody tr th {\n",
       "        vertical-align: top;\n",
       "    }\n",
       "\n",
       "    .dataframe thead th {\n",
       "        text-align: right;\n",
       "    }\n",
       "</style>\n",
       "<table border=\"1\" class=\"dataframe\">\n",
       "  <thead>\n",
       "    <tr style=\"text-align: right;\">\n",
       "      <th></th>\n",
       "      <th>Sex_Female</th>\n",
       "      <th>Sex_Male</th>\n",
       "    </tr>\n",
       "  </thead>\n",
       "  <tbody>\n",
       "    <tr>\n",
       "      <th>0</th>\n",
       "      <td>0.0</td>\n",
       "      <td>1.0</td>\n",
       "    </tr>\n",
       "    <tr>\n",
       "      <th>1</th>\n",
       "      <td>1.0</td>\n",
       "      <td>0.0</td>\n",
       "    </tr>\n",
       "    <tr>\n",
       "      <th>2</th>\n",
       "      <td>1.0</td>\n",
       "      <td>0.0</td>\n",
       "    </tr>\n",
       "  </tbody>\n",
       "</table>\n",
       "</div>"
      ],
      "text/plain": [
       "   Sex_Female  Sex_Male\n",
       "0         0.0       1.0\n",
       "1         1.0       0.0\n",
       "2         1.0       0.0"
      ]
     },
     "execution_count": 12,
     "metadata": {},
     "output_type": "execute_result"
    }
   ],
   "source": [
    "from sklearn.preprocessing import OneHotEncoder\n",
    "\n",
    "# Set names of categorical columns\n",
    "categorical_columns = ['Sex']\n",
    "\n",
    "# Create OneHotEncoder object\n",
    "encoder = OneHotEncoder(sparse=False)\n",
    "\n",
    "# Transform categorical columns and save them into array\n",
    "cat_encoded = encoder.fit_transform(df_example[categorical_columns],)\n",
    "\n",
    "# Save categorical columns to pandas.DataFrame, with correct column names\n",
    "df_encoded = pd.DataFrame(cat_encoded, columns=encoder.get_feature_names_out(categorical_columns))\n",
    "\n",
    "# Check the resulting DataFrame\n",
    "df_encoded.head()"
   ]
  },
  {
   "cell_type": "code",
   "execution_count": 13,
   "id": "f745281f",
   "metadata": {},
   "outputs": [
    {
     "data": {
      "text/html": [
       "<div>\n",
       "<style scoped>\n",
       "    .dataframe tbody tr th:only-of-type {\n",
       "        vertical-align: middle;\n",
       "    }\n",
       "\n",
       "    .dataframe tbody tr th {\n",
       "        vertical-align: top;\n",
       "    }\n",
       "\n",
       "    .dataframe thead th {\n",
       "        text-align: right;\n",
       "    }\n",
       "</style>\n",
       "<table border=\"1\" class=\"dataframe\">\n",
       "  <thead>\n",
       "    <tr style=\"text-align: right;\">\n",
       "      <th></th>\n",
       "      <th>Gender_F</th>\n",
       "      <th>Gender_M</th>\n",
       "      <th>Education_Level_College</th>\n",
       "      <th>Education_Level_Doctorate</th>\n",
       "      <th>Education_Level_Graduate</th>\n",
       "      <th>Education_Level_High School</th>\n",
       "      <th>Education_Level_Post-Graduate</th>\n",
       "      <th>Education_Level_Uneducated</th>\n",
       "      <th>Education_Level_Unknown</th>\n",
       "      <th>Marital_Status_Divorced</th>\n",
       "      <th>...</th>\n",
       "      <th>Income_Category_$120K +</th>\n",
       "      <th>Income_Category_$40K - $60K</th>\n",
       "      <th>Income_Category_$60K - $80K</th>\n",
       "      <th>Income_Category_$80K - $120K</th>\n",
       "      <th>Income_Category_Less than $40K</th>\n",
       "      <th>Income_Category_Unknown</th>\n",
       "      <th>Card_Category_Blue</th>\n",
       "      <th>Card_Category_Gold</th>\n",
       "      <th>Card_Category_Platinum</th>\n",
       "      <th>Card_Category_Silver</th>\n",
       "    </tr>\n",
       "  </thead>\n",
       "  <tbody>\n",
       "    <tr>\n",
       "      <th>0</th>\n",
       "      <td>0.0</td>\n",
       "      <td>1.0</td>\n",
       "      <td>0.0</td>\n",
       "      <td>0.0</td>\n",
       "      <td>0.0</td>\n",
       "      <td>1.0</td>\n",
       "      <td>0.0</td>\n",
       "      <td>0.0</td>\n",
       "      <td>0.0</td>\n",
       "      <td>0.0</td>\n",
       "      <td>...</td>\n",
       "      <td>0.0</td>\n",
       "      <td>0.0</td>\n",
       "      <td>1.0</td>\n",
       "      <td>0.0</td>\n",
       "      <td>0.0</td>\n",
       "      <td>0.0</td>\n",
       "      <td>1.0</td>\n",
       "      <td>0.0</td>\n",
       "      <td>0.0</td>\n",
       "      <td>0.0</td>\n",
       "    </tr>\n",
       "    <tr>\n",
       "      <th>1</th>\n",
       "      <td>1.0</td>\n",
       "      <td>0.0</td>\n",
       "      <td>0.0</td>\n",
       "      <td>0.0</td>\n",
       "      <td>1.0</td>\n",
       "      <td>0.0</td>\n",
       "      <td>0.0</td>\n",
       "      <td>0.0</td>\n",
       "      <td>0.0</td>\n",
       "      <td>0.0</td>\n",
       "      <td>...</td>\n",
       "      <td>0.0</td>\n",
       "      <td>0.0</td>\n",
       "      <td>0.0</td>\n",
       "      <td>0.0</td>\n",
       "      <td>1.0</td>\n",
       "      <td>0.0</td>\n",
       "      <td>1.0</td>\n",
       "      <td>0.0</td>\n",
       "      <td>0.0</td>\n",
       "      <td>0.0</td>\n",
       "    </tr>\n",
       "    <tr>\n",
       "      <th>2</th>\n",
       "      <td>0.0</td>\n",
       "      <td>1.0</td>\n",
       "      <td>0.0</td>\n",
       "      <td>0.0</td>\n",
       "      <td>1.0</td>\n",
       "      <td>0.0</td>\n",
       "      <td>0.0</td>\n",
       "      <td>0.0</td>\n",
       "      <td>0.0</td>\n",
       "      <td>0.0</td>\n",
       "      <td>...</td>\n",
       "      <td>0.0</td>\n",
       "      <td>0.0</td>\n",
       "      <td>0.0</td>\n",
       "      <td>1.0</td>\n",
       "      <td>0.0</td>\n",
       "      <td>0.0</td>\n",
       "      <td>1.0</td>\n",
       "      <td>0.0</td>\n",
       "      <td>0.0</td>\n",
       "      <td>0.0</td>\n",
       "    </tr>\n",
       "    <tr>\n",
       "      <th>3</th>\n",
       "      <td>1.0</td>\n",
       "      <td>0.0</td>\n",
       "      <td>0.0</td>\n",
       "      <td>0.0</td>\n",
       "      <td>0.0</td>\n",
       "      <td>1.0</td>\n",
       "      <td>0.0</td>\n",
       "      <td>0.0</td>\n",
       "      <td>0.0</td>\n",
       "      <td>0.0</td>\n",
       "      <td>...</td>\n",
       "      <td>0.0</td>\n",
       "      <td>0.0</td>\n",
       "      <td>0.0</td>\n",
       "      <td>0.0</td>\n",
       "      <td>1.0</td>\n",
       "      <td>0.0</td>\n",
       "      <td>1.0</td>\n",
       "      <td>0.0</td>\n",
       "      <td>0.0</td>\n",
       "      <td>0.0</td>\n",
       "    </tr>\n",
       "    <tr>\n",
       "      <th>4</th>\n",
       "      <td>0.0</td>\n",
       "      <td>1.0</td>\n",
       "      <td>0.0</td>\n",
       "      <td>0.0</td>\n",
       "      <td>0.0</td>\n",
       "      <td>0.0</td>\n",
       "      <td>0.0</td>\n",
       "      <td>1.0</td>\n",
       "      <td>0.0</td>\n",
       "      <td>0.0</td>\n",
       "      <td>...</td>\n",
       "      <td>0.0</td>\n",
       "      <td>0.0</td>\n",
       "      <td>1.0</td>\n",
       "      <td>0.0</td>\n",
       "      <td>0.0</td>\n",
       "      <td>0.0</td>\n",
       "      <td>1.0</td>\n",
       "      <td>0.0</td>\n",
       "      <td>0.0</td>\n",
       "      <td>0.0</td>\n",
       "    </tr>\n",
       "  </tbody>\n",
       "</table>\n",
       "<p>5 rows × 23 columns</p>\n",
       "</div>"
      ],
      "text/plain": [
       "   Gender_F  Gender_M  Education_Level_College  Education_Level_Doctorate   \n",
       "0       0.0       1.0                      0.0                        0.0  \\\n",
       "1       1.0       0.0                      0.0                        0.0   \n",
       "2       0.0       1.0                      0.0                        0.0   \n",
       "3       1.0       0.0                      0.0                        0.0   \n",
       "4       0.0       1.0                      0.0                        0.0   \n",
       "\n",
       "   Education_Level_Graduate  Education_Level_High School   \n",
       "0                       0.0                          1.0  \\\n",
       "1                       1.0                          0.0   \n",
       "2                       1.0                          0.0   \n",
       "3                       0.0                          1.0   \n",
       "4                       0.0                          0.0   \n",
       "\n",
       "   Education_Level_Post-Graduate  Education_Level_Uneducated   \n",
       "0                            0.0                         0.0  \\\n",
       "1                            0.0                         0.0   \n",
       "2                            0.0                         0.0   \n",
       "3                            0.0                         0.0   \n",
       "4                            0.0                         1.0   \n",
       "\n",
       "   Education_Level_Unknown  Marital_Status_Divorced  ...   \n",
       "0                      0.0                      0.0  ...  \\\n",
       "1                      0.0                      0.0  ...   \n",
       "2                      0.0                      0.0  ...   \n",
       "3                      0.0                      0.0  ...   \n",
       "4                      0.0                      0.0  ...   \n",
       "\n",
       "   Income_Category_$120K +  Income_Category_$40K - $60K   \n",
       "0                      0.0                          0.0  \\\n",
       "1                      0.0                          0.0   \n",
       "2                      0.0                          0.0   \n",
       "3                      0.0                          0.0   \n",
       "4                      0.0                          0.0   \n",
       "\n",
       "   Income_Category_$60K - $80K  Income_Category_$80K - $120K   \n",
       "0                          1.0                           0.0  \\\n",
       "1                          0.0                           0.0   \n",
       "2                          0.0                           1.0   \n",
       "3                          0.0                           0.0   \n",
       "4                          1.0                           0.0   \n",
       "\n",
       "   Income_Category_Less than $40K  Income_Category_Unknown   \n",
       "0                             0.0                      0.0  \\\n",
       "1                             1.0                      0.0   \n",
       "2                             0.0                      0.0   \n",
       "3                             1.0                      0.0   \n",
       "4                             0.0                      0.0   \n",
       "\n",
       "   Card_Category_Blue  Card_Category_Gold  Card_Category_Platinum   \n",
       "0                 1.0                 0.0                     0.0  \\\n",
       "1                 1.0                 0.0                     0.0   \n",
       "2                 1.0                 0.0                     0.0   \n",
       "3                 1.0                 0.0                     0.0   \n",
       "4                 1.0                 0.0                     0.0   \n",
       "\n",
       "   Card_Category_Silver  \n",
       "0                   0.0  \n",
       "1                   0.0  \n",
       "2                   0.0  \n",
       "3                   0.0  \n",
       "4                   0.0  \n",
       "\n",
       "[5 rows x 23 columns]"
      ]
     },
     "execution_count": 13,
     "metadata": {},
     "output_type": "execute_result"
    }
   ],
   "source": [
    "# Set names of categorical columns\n",
    "categorical_columns = ['Gender', 'Education_Level', 'Marital_Status', 'Income_Category', 'Card_Category']\n",
    "\n",
    "# Create OneHotEncoder object\n",
    "encoder = OneHotEncoder(sparse_output=False)\n",
    "\n",
    "# Transform categorical columns and save them into array\n",
    "cat_encoded = encoder.fit_transform(df[categorical_columns],)\n",
    "\n",
    "# Save categorical columns to pandas.DataFrame, with correct column names\n",
    "df_encoded = pd.DataFrame(cat_encoded, columns=encoder.get_feature_names_out(categorical_columns))\n",
    "\n",
    "# Check the resulting DataFrame\n",
    "df_encoded.head()"
   ]
  },
  {
   "cell_type": "code",
   "execution_count": 14,
   "id": "1a85f9c3",
   "metadata": {},
   "outputs": [
    {
     "data": {
      "text/plain": [
       "(10127, 23)"
      ]
     },
     "execution_count": 14,
     "metadata": {},
     "output_type": "execute_result"
    }
   ],
   "source": [
    "df_encoded.shape"
   ]
  },
  {
   "attachments": {},
   "cell_type": "markdown",
   "id": "8b6cc885",
   "metadata": {},
   "source": [
    "# Drop original categorical columns and concat encoded with the numerical columns\n",
    "\n",
    "assuming your encoded columns are in `df_encoded` variable"
   ]
  },
  {
   "cell_type": "code",
   "execution_count": 15,
   "id": "891e197a",
   "metadata": {},
   "outputs": [],
   "source": [
    "df = df.drop(categorical_columns, axis=1)"
   ]
  },
  {
   "cell_type": "code",
   "execution_count": 16,
   "id": "8137f458",
   "metadata": {},
   "outputs": [],
   "source": [
    "df = pd.concat([df, df_encoded], axis=1)"
   ]
  },
  {
   "cell_type": "code",
   "execution_count": 17,
   "id": "3939ce27",
   "metadata": {},
   "outputs": [
    {
     "data": {
      "text/html": [
       "<div>\n",
       "<style scoped>\n",
       "    .dataframe tbody tr th:only-of-type {\n",
       "        vertical-align: middle;\n",
       "    }\n",
       "\n",
       "    .dataframe tbody tr th {\n",
       "        vertical-align: top;\n",
       "    }\n",
       "\n",
       "    .dataframe thead th {\n",
       "        text-align: right;\n",
       "    }\n",
       "</style>\n",
       "<table border=\"1\" class=\"dataframe\">\n",
       "  <thead>\n",
       "    <tr style=\"text-align: right;\">\n",
       "      <th></th>\n",
       "      <th>Attrition_Flag</th>\n",
       "      <th>Customer_Age</th>\n",
       "      <th>Dependent_count</th>\n",
       "      <th>Months_on_book</th>\n",
       "      <th>Total_Relationship_Count</th>\n",
       "      <th>Months_Inactive_12_mon</th>\n",
       "      <th>Contacts_Count_12_mon</th>\n",
       "      <th>Credit_Limit</th>\n",
       "      <th>Total_Revolving_Bal</th>\n",
       "      <th>Avg_Open_To_Buy</th>\n",
       "      <th>...</th>\n",
       "      <th>Income_Category_$120K +</th>\n",
       "      <th>Income_Category_$40K - $60K</th>\n",
       "      <th>Income_Category_$60K - $80K</th>\n",
       "      <th>Income_Category_$80K - $120K</th>\n",
       "      <th>Income_Category_Less than $40K</th>\n",
       "      <th>Income_Category_Unknown</th>\n",
       "      <th>Card_Category_Blue</th>\n",
       "      <th>Card_Category_Gold</th>\n",
       "      <th>Card_Category_Platinum</th>\n",
       "      <th>Card_Category_Silver</th>\n",
       "    </tr>\n",
       "  </thead>\n",
       "  <tbody>\n",
       "    <tr>\n",
       "      <th>0</th>\n",
       "      <td>0</td>\n",
       "      <td>45</td>\n",
       "      <td>3</td>\n",
       "      <td>39</td>\n",
       "      <td>5</td>\n",
       "      <td>1</td>\n",
       "      <td>3</td>\n",
       "      <td>12691.0</td>\n",
       "      <td>777</td>\n",
       "      <td>11914.0</td>\n",
       "      <td>...</td>\n",
       "      <td>0.0</td>\n",
       "      <td>0.0</td>\n",
       "      <td>1.0</td>\n",
       "      <td>0.0</td>\n",
       "      <td>0.0</td>\n",
       "      <td>0.0</td>\n",
       "      <td>1.0</td>\n",
       "      <td>0.0</td>\n",
       "      <td>0.0</td>\n",
       "      <td>0.0</td>\n",
       "    </tr>\n",
       "    <tr>\n",
       "      <th>1</th>\n",
       "      <td>0</td>\n",
       "      <td>49</td>\n",
       "      <td>5</td>\n",
       "      <td>44</td>\n",
       "      <td>6</td>\n",
       "      <td>1</td>\n",
       "      <td>2</td>\n",
       "      <td>8256.0</td>\n",
       "      <td>864</td>\n",
       "      <td>7392.0</td>\n",
       "      <td>...</td>\n",
       "      <td>0.0</td>\n",
       "      <td>0.0</td>\n",
       "      <td>0.0</td>\n",
       "      <td>0.0</td>\n",
       "      <td>1.0</td>\n",
       "      <td>0.0</td>\n",
       "      <td>1.0</td>\n",
       "      <td>0.0</td>\n",
       "      <td>0.0</td>\n",
       "      <td>0.0</td>\n",
       "    </tr>\n",
       "    <tr>\n",
       "      <th>2</th>\n",
       "      <td>0</td>\n",
       "      <td>51</td>\n",
       "      <td>3</td>\n",
       "      <td>36</td>\n",
       "      <td>4</td>\n",
       "      <td>1</td>\n",
       "      <td>0</td>\n",
       "      <td>3418.0</td>\n",
       "      <td>0</td>\n",
       "      <td>3418.0</td>\n",
       "      <td>...</td>\n",
       "      <td>0.0</td>\n",
       "      <td>0.0</td>\n",
       "      <td>0.0</td>\n",
       "      <td>1.0</td>\n",
       "      <td>0.0</td>\n",
       "      <td>0.0</td>\n",
       "      <td>1.0</td>\n",
       "      <td>0.0</td>\n",
       "      <td>0.0</td>\n",
       "      <td>0.0</td>\n",
       "    </tr>\n",
       "  </tbody>\n",
       "</table>\n",
       "<p>3 rows × 38 columns</p>\n",
       "</div>"
      ],
      "text/plain": [
       "   Attrition_Flag  Customer_Age  Dependent_count  Months_on_book   \n",
       "0               0            45                3              39  \\\n",
       "1               0            49                5              44   \n",
       "2               0            51                3              36   \n",
       "\n",
       "   Total_Relationship_Count  Months_Inactive_12_mon  Contacts_Count_12_mon   \n",
       "0                         5                       1                      3  \\\n",
       "1                         6                       1                      2   \n",
       "2                         4                       1                      0   \n",
       "\n",
       "   Credit_Limit  Total_Revolving_Bal  Avg_Open_To_Buy  ...   \n",
       "0       12691.0                  777          11914.0  ...  \\\n",
       "1        8256.0                  864           7392.0  ...   \n",
       "2        3418.0                    0           3418.0  ...   \n",
       "\n",
       "   Income_Category_$120K +  Income_Category_$40K - $60K   \n",
       "0                      0.0                          0.0  \\\n",
       "1                      0.0                          0.0   \n",
       "2                      0.0                          0.0   \n",
       "\n",
       "   Income_Category_$60K - $80K  Income_Category_$80K - $120K   \n",
       "0                          1.0                           0.0  \\\n",
       "1                          0.0                           0.0   \n",
       "2                          0.0                           1.0   \n",
       "\n",
       "   Income_Category_Less than $40K  Income_Category_Unknown   \n",
       "0                             0.0                      0.0  \\\n",
       "1                             1.0                      0.0   \n",
       "2                             0.0                      0.0   \n",
       "\n",
       "   Card_Category_Blue  Card_Category_Gold  Card_Category_Platinum   \n",
       "0                 1.0                 0.0                     0.0  \\\n",
       "1                 1.0                 0.0                     0.0   \n",
       "2                 1.0                 0.0                     0.0   \n",
       "\n",
       "   Card_Category_Silver  \n",
       "0                   0.0  \n",
       "1                   0.0  \n",
       "2                   0.0  \n",
       "\n",
       "[3 rows x 38 columns]"
      ]
     },
     "execution_count": 17,
     "metadata": {},
     "output_type": "execute_result"
    }
   ],
   "source": [
    "df.head(3)"
   ]
  },
  {
   "attachments": {},
   "cell_type": "markdown",
   "id": "36ee19fa",
   "metadata": {},
   "source": [
    "# 7. Split data intro train and test parts\n",
    "\n",
    "Set the size of the test set to 30%, use startification over the target column (to preserve target ratio in train and test sets). Use `random_state=10`. How many observations do you have in your test set?\n"
   ]
  },
  {
   "cell_type": "code",
   "execution_count": 18,
   "id": "c85ecb2b",
   "metadata": {},
   "outputs": [],
   "source": [
    "from sklearn.model_selection import train_test_split"
   ]
  },
  {
   "cell_type": "code",
   "execution_count": 19,
   "id": "5bd2293f",
   "metadata": {},
   "outputs": [],
   "source": [
    "df_train, df_test = train_test_split(\n",
    "    df, test_size=0.3, stratify=df['Attrition_Flag'], random_state=10) "
   ]
  },
  {
   "cell_type": "code",
   "execution_count": 20,
   "id": "fcc7265c",
   "metadata": {},
   "outputs": [
    {
     "data": {
      "text/plain": [
       "(3039, 38)"
      ]
     },
     "execution_count": 20,
     "metadata": {},
     "output_type": "execute_result"
    }
   ],
   "source": [
    "df_test.shape"
   ]
  },
  {
   "attachments": {},
   "cell_type": "markdown",
   "id": "b3e0e1aa",
   "metadata": {},
   "source": [
    "# 8. This is a binary classification problem with  imbalanced classes, what are the appropriate metrics for this task?\n",
    "\n",
    "select all which apply\n",
    "\n",
    "- accuracy score\n",
    "- roc auc score\n",
    "- f1 score\n",
    "- mean absolute error\n",
    "- r-squared\n",
    "- precision"
   ]
  },
  {
   "attachments": {},
   "cell_type": "markdown",
   "id": "533c9589",
   "metadata": {},
   "source": [
    "Mean absolute error and r-squared are metrics for regression, so we won't use them and is not so good approach for unbalanced dataset, becouse we will have overfitting.\n",
    "So we can use: \n",
    "- roc auc score\n",
    "- f1 score\n",
    "- precision"
   ]
  },
  {
   "attachments": {},
   "cell_type": "markdown",
   "id": "6b8da5d3",
   "metadata": {},
   "source": [
    "# 9. Train a Random Forest Classifier on a `train` set\n",
    "\n",
    "Use RandomForestClassifier with default hyperparameters. What is the f1 score of a trained model on a test set?"
   ]
  },
  {
   "cell_type": "code",
   "execution_count": 26,
   "id": "80f5a8de",
   "metadata": {},
   "outputs": [],
   "source": [
    "X_train = df_train.drop(\"Attrition_Flag\", axis=1)\n",
    "y_train = df_train['Attrition_Flag']\n",
    "X_test = df_test.drop(\"Attrition_Flag\", axis=1)\n",
    "y_test = df_test['Attrition_Flag']\n",
    "X = df.drop(\"Attrition_Flag\", axis=1)\n",
    "y = df[\"Attrition_Flag\"]"
   ]
  },
  {
   "cell_type": "code",
   "execution_count": 27,
   "id": "65d83f0d",
   "metadata": {},
   "outputs": [
    {
     "data": {
      "text/plain": [
       "0.8295964125560538"
      ]
     },
     "execution_count": 27,
     "metadata": {},
     "output_type": "execute_result"
    }
   ],
   "source": [
    "from sklearn.ensemble import RandomForestClassifier\n",
    "from sklearn.metrics import f1_score\n",
    "\n",
    "model = RandomForestClassifier()\n",
    "\n",
    "model.fit(X_train, y_train)\n",
    "prediction = model.predict(X_test)\n",
    "f1_score(y_test, prediction)"
   ]
  },
  {
   "cell_type": "code",
   "execution_count": 34,
   "id": "c3204473",
   "metadata": {},
   "outputs": [
    {
     "data": {
      "text/plain": [
       "array([[0.98, 0.02],\n",
       "       [0.32, 0.68],\n",
       "       [0.91, 0.09],\n",
       "       ...,\n",
       "       [1.  , 0.  ],\n",
       "       [0.9 , 0.1 ],\n",
       "       [0.07, 0.93]])"
      ]
     },
     "execution_count": 34,
     "metadata": {},
     "output_type": "execute_result"
    }
   ],
   "source": [
    "y_pred_rf = model.predict_proba(X_test)\n",
    "y_pred_rf"
   ]
  },
  {
   "attachments": {},
   "cell_type": "markdown",
   "id": "6ef2763d",
   "metadata": {},
   "source": [
    "# 10. Build a confusion matrix with a default probability threshold (0.5)\n",
    "\n",
    "To analyse the resulting algorithm we will take a closer look on individual predictions. How many False Positives and False Negatives do you have?\n"
   ]
  },
  {
   "cell_type": "code",
   "execution_count": 37,
   "id": "e9060e03",
   "metadata": {},
   "outputs": [
    {
     "data": {
      "image/png": "[encoded data removed]",
      "text/plain": [
       "<Figure size 1000x700 with 2 Axes>"
      ]
     },
     "metadata": {},
     "output_type": "display_data"
    }
   ],
   "source": [
    "from sklearn.metrics import confusion_matrix\n",
    "import seaborn as sns\n",
    "import matplotlib.pyplot as plt\n",
    "\n",
    "# Create confusion matrix\n",
    "cm = confusion_matrix(df_test['Attrition_Flag'], y_pred_rf[:, 1]>0.5)\n",
    "\n",
    "# Visualize the confusion matrix using seaborn\n",
    "plt.figure(figsize=(10,7))\n",
    "sns.heatmap(cm, annot=True, fmt=\"d\")\n",
    "plt.title(\"Confusion matrix\")\n",
    "plt.ylabel('True label')\n",
    "plt.xlabel('Predicted label')\n",
    "plt.show()"
   ]
  },
  {
   "attachments": {},
   "cell_type": "markdown",
   "id": "0f06d4e9",
   "metadata": {},
   "source": [
    "- False positive: 43\n",
    "- False negative: 118"
   ]
  },
  {
   "attachments": {},
   "cell_type": "markdown",
   "id": "a3d8da38",
   "metadata": {},
   "source": [
    "# 11. We will change probability threshold from 0.05 to 0.95 with step 0.05\n",
    "\n",
    "What happens to the number of True Positives and to the number of False Negatives, as you increase the probability threshold?\n"
   ]
  },
  {
   "cell_type": "code",
   "execution_count": 38,
   "id": "477073d5",
   "metadata": {},
   "outputs": [],
   "source": [
    "import numpy as np"
   ]
  },
  {
   "cell_type": "code",
   "execution_count": 39,
   "id": "d35f7116",
   "metadata": {},
   "outputs": [],
   "source": [
    "true_positives = []\n",
    "false_negatives = []\n",
    "for t in np.linspace(0.05,0.95,19):\n",
    "    cm = confusion_matrix(df_test['Attrition_Flag'], y_pred_rf[:, 1]>t)\n",
    "    tp, fn = cm[1,1], cm[1,0]\n",
    "    true_positives.append(tp)\n",
    "    false_negatives.append(fn)"
   ]
  },
  {
   "cell_type": "code",
   "execution_count": 40,
   "id": "1436bec9",
   "metadata": {},
   "outputs": [
    {
     "data": {
      "image/png": "[encoded data removed]",
      "text/plain": [
       "<Figure size 640x480 with 1 Axes>"
      ]
     },
     "metadata": {},
     "output_type": "display_data"
    }
   ],
   "source": [
    "plt.plot(np.linspace(0.05,0.95,19), true_positives, label='True Positives')\n",
    "plt.plot(np.linspace(0.05,0.95,19), false_negatives, label='False Negatives')\n",
    "plt.xlabel('Probability threshold')\n",
    "plt.ylabel('# observations')\n",
    "plt.legend();"
   ]
  },
  {
   "attachments": {},
   "cell_type": "markdown",
   "id": "8b8fc1a5",
   "metadata": {},
   "source": [
    "As we increase the probability threshold our predictions become more conservative (predict Churn only for observations with high probability), therefore Number of TP decreases and number of FN increases"
   ]
  },
  {
   "attachments": {},
   "cell_type": "markdown",
   "id": "822be055",
   "metadata": {},
   "source": [
    "# 12. Estimate revenue\n",
    "\n",
    "Let's consider a toy economic setup:\n",
    "1. Each client earns a company $50\\$$ per month\n",
    "2. If you predict that a client will churn, the company can provide she with a discount of $200\\$$ and the client will stay for another year\n",
    "\n",
    "If the company do nothing (has no Churn model), then the revenue over the year will be:\n",
    "\n",
    "$$S = N*50*12 + P*0$$\n",
    "\n",
    "where N (negative) is number of non-Churn clients, and P (positive) is number of clients who Churn. If the company implements some Churn model, the revenue will be the following:\n",
    "\n",
    "$$S = TN*50*12 + FP*(50*12-200) + TP*(50*12-200)  + FN * 0$$\n",
    "\n",
    "where \n",
    "- TN are non-Churning clients, predicted as non-Churning (true negatives)\n",
    "- FP are non-Churning clients, predicted as Churning (false positives)\n",
    "- TP are Churning clients, predicted as Churning (true positives)\n",
    "- FN are Churning clients, predicted as non-Churning (false negatives)\n",
    "\n",
    "## Compute the revenue for different thresholds based on your model, what is the optimal probability threshold? Report two numbers divided by a comma, e.g. `0.5,1500000`"
   ]
  },
  {
   "cell_type": "code",
   "execution_count": null,
   "id": "da433bed",
   "metadata": {},
   "outputs": [],
   "source": [
    "profit = []\n",
    "for t in np.linspace(0.05,0.95,19):\n",
    "    cm = confusion_matrix(df_test['Attrition_Flag'], y_pred_rf[:, 1]>t)\n",
    "    tn, fp, tp, fn = cm[0,0], cm[0,1], cm[1,1], cm[1,0]\n",
    "    S = tn*50*12 + fp*(50*12-200) + tp*(50*12-200) \n",
    "    profit.append(S)"
   ]
  },
  {
   "cell_type": "code",
   "execution_count": null,
   "id": "e6256091",
   "metadata": {},
   "outputs": [],
   "source": [
    "plt.plot(np.linspace(0.05,0.95,19), profit);\n",
    "plt.xlabel('Probability')\n",
    "plt.ylabel('Revenue, mln $');"
   ]
  },
  {
   "cell_type": "code",
   "execution_count": null,
   "id": "7e56a4ac",
   "metadata": {},
   "outputs": [],
   "source": []
  },
  {
   "cell_type": "code",
   "execution_count": null,
   "id": "69e2b704",
   "metadata": {},
   "outputs": [],
   "source": []
  },
  {
   "attachments": {},
   "cell_type": "markdown",
   "id": "c4abf7ce",
   "metadata": {},
   "source": [
    "# 13. Compute economic value\n",
    "\n",
    "Is there any economic value from introducing a ML model (compared to not using a model and not providing a discounts)?\n",
    "\n",
    "First scenario - no ML model, no discounts; Second scenario - ML model from question 12."
   ]
  },
  {
   "cell_type": "code",
   "execution_count": null,
   "id": "53c5a2d3",
   "metadata": {},
   "outputs": [],
   "source": []
  },
  {
   "cell_type": "code",
   "execution_count": null,
   "id": "34416519",
   "metadata": {},
   "outputs": [],
   "source": []
  },
  {
   "cell_type": "code",
   "execution_count": null,
   "id": "e3986ea6",
   "metadata": {},
   "outputs": [],
   "source": []
  },
  {
   "attachments": {},
   "cell_type": "markdown",
   "id": "515bc968",
   "metadata": {},
   "source": [
    "# 14. Build a confusion matrix\n",
    "\n",
    "assosiated with an optimal probability threshold. What happend to the number of False Positives and False Negatives, compared to the default probability threshold (question 10)?"
   ]
  },
  {
   "cell_type": "code",
   "execution_count": null,
   "id": "36775560",
   "metadata": {},
   "outputs": [],
   "source": []
  },
  {
   "cell_type": "code",
   "execution_count": null,
   "id": "300ecf80",
   "metadata": {},
   "outputs": [],
   "source": []
  },
  {
   "cell_type": "code",
   "execution_count": null,
   "id": "1e737844",
   "metadata": {},
   "outputs": [],
   "source": []
  },
  {
   "attachments": {},
   "cell_type": "markdown",
   "id": "d5810b7c",
   "metadata": {},
   "source": [
    "# 15. What if the price to keep the client goes up to 500?\n",
    "\n",
    "Does optimal probability treshold changes?"
   ]
  },
  {
   "cell_type": "code",
   "execution_count": null,
   "id": "fccb8269",
   "metadata": {},
   "outputs": [],
   "source": []
  },
  {
   "cell_type": "code",
   "execution_count": null,
   "id": "2d9869cc",
   "metadata": {},
   "outputs": [],
   "source": []
  },
  {
   "attachments": {},
   "cell_type": "markdown",
   "id": "09215063",
   "metadata": {},
   "source": [
    "# 16. Built an assosiated confusion matrix\n",
    "\n",
    "How many False Positives and False Negatives do you have?"
   ]
  },
  {
   "cell_type": "code",
   "execution_count": null,
   "id": "610910b5",
   "metadata": {},
   "outputs": [],
   "source": []
  },
  {
   "attachments": {},
   "cell_type": "markdown",
   "id": "ad2666f9",
   "metadata": {},
   "source": [
    "# 17. Compare confusion matrices from 14 and 16\n",
    "\n"
   ]
  },
  {
   "cell_type": "code",
   "execution_count": null,
   "id": "30d5c9e9",
   "metadata": {},
   "outputs": [],
   "source": []
  },
  {
   "attachments": {},
   "cell_type": "markdown",
   "id": "c6ff7a49",
   "metadata": {},
   "source": [
    "# 18. Train catboost\n",
    "\n",
    "Train a catboost.CatBoostClassifier on a **unprocessed data** (no preprocessing for categorical columns) with default hyperparameters, see example below."
   ]
  },
  {
   "cell_type": "code",
   "execution_count": null,
   "id": "60c1781a",
   "metadata": {},
   "outputs": [],
   "source": [
    "df = pd.read_csv('BankChurners.csv')\n",
    "\n",
    "# We will drop two last columns from the table\n",
    "df = df.drop([\n",
    "    'CLIENTNUM',\n",
    "    'Naive_Bayes_Classifier_Attrition_Flag_Card_Category_Contacts_Count_12_mon_Dependent_count_Education_Level_Months_Inactive_12_mon_1',\n",
    "    'Naive_Bayes_Classifier_Attrition_Flag_Card_Category_Contacts_Count_12_mon_Dependent_count_Education_Level_Months_Inactive_12_mon_2'], \n",
    "    axis=1)"
   ]
  },
  {
   "cell_type": "code",
   "execution_count": null,
   "id": "8fbb9611",
   "metadata": {},
   "outputs": [],
   "source": [
    "from catboost import CatBoostClassifier"
   ]
  },
  {
   "cell_type": "code",
   "execution_count": null,
   "id": "23d1dbaa",
   "metadata": {},
   "outputs": [],
   "source": [
    "df_train, df_test = train_test_split(df, test_size=0.3, stratify=df['Attrition_Flag'])"
   ]
  },
  {
   "cell_type": "code",
   "execution_count": null,
   "id": "aa163b02",
   "metadata": {},
   "outputs": [],
   "source": [
    "categorical_columns = [...] # put all categorical columns names instead of ..."
   ]
  },
  {
   "cell_type": "code",
   "execution_count": null,
   "id": "b942fa0d",
   "metadata": {},
   "outputs": [],
   "source": [
    "clf = CatBoostClassifier()"
   ]
  },
  {
   "cell_type": "code",
   "execution_count": null,
   "id": "42ece33d",
   "metadata": {},
   "outputs": [],
   "source": [
    "clf.fit(df_train.drop('Attrition_Flag', axis=1), df_train['Attrition_Flag'], cat_features=categorical_columns)"
   ]
  },
  {
   "cell_type": "code",
   "execution_count": null,
   "id": "437d4bf7",
   "metadata": {},
   "outputs": [],
   "source": []
  },
  {
   "cell_type": "code",
   "execution_count": null,
   "id": "d5181bdc",
   "metadata": {},
   "outputs": [],
   "source": []
  },
  {
   "cell_type": "code",
   "execution_count": null,
   "id": "9686aad6",
   "metadata": {},
   "outputs": [],
   "source": []
  },
  {
   "attachments": {},
   "cell_type": "markdown",
   "id": "a6e2f952",
   "metadata": {},
   "source": [
    "# 19. Compute ROC AUC score for your RandomForest and Catboost model\n",
    "\n",
    "Comment on how increase/decrease in roc auc (machine learning metric) compares with increase/decrease of revenue (business metric). Propose how you could improve the economic model to make it more realistic (and how to use your ML model in this new setup). Upload a pdf, up to 500 words."
   ]
  },
  {
   "cell_type": "code",
   "execution_count": null,
   "id": "9399cbf5",
   "metadata": {},
   "outputs": [],
   "source": []
  },
  {
   "cell_type": "code",
   "execution_count": null,
   "id": "58c8bfc0",
   "metadata": {},
   "outputs": [],
   "source": []
  }
 ],
 "metadata": {
  "kernelspec": {
   "display_name": "Python 3 (ipykernel)",
   "language": "python",
   "name": "python3"
  },
  "language_info": {
   "codemirror_mode": {
    "name": "ipython",
    "version": 3
   },
   "file_extension": ".py",
   "mimetype": "text/x-python",
   "name": "python",
   "nbconvert_exporter": "python",
   "pygments_lexer": "ipython3",
   "version": "3.9.12"
  }
 },
 "nbformat": 4,
 "nbformat_minor": 5
}
