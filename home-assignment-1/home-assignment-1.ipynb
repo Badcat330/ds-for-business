{
 "cells": [
  {
   "cell_type": "markdown",
   "id": "2bc961b7",
   "metadata": {},
   "source": [
    "# Submit your solution to the google form (link is available in telegram channel), due to 02/05/2023 23:59 Moscow time."
   ]
  },
  {
   "cell_type": "code",
   "execution_count": 1,
   "id": "d670df31",
   "metadata": {},
   "outputs": [
    {
     "name": "stdout",
     "output_type": "stream",
     "text": [
      "Requirement already satisfied: pandas in /Users/alexglushko/PycharmProjects/ds-for-business/venv/lib/python3.9/site-packages (2.0.1)\n",
      "Requirement already satisfied: numpy>=1.20.3 in /Users/alexglushko/PycharmProjects/ds-for-business/venv/lib/python3.9/site-packages (from pandas) (1.24.3)\n",
      "Requirement already satisfied: python-dateutil>=2.8.2 in /Users/alexglushko/PycharmProjects/ds-for-business/venv/lib/python3.9/site-packages (from pandas) (2.8.2)\n",
      "Requirement already satisfied: tzdata>=2022.1 in /Users/alexglushko/PycharmProjects/ds-for-business/venv/lib/python3.9/site-packages (from pandas) (2023.3)\n",
      "Requirement already satisfied: pytz>=2020.1 in /Users/alexglushko/PycharmProjects/ds-for-business/venv/lib/python3.9/site-packages (from pandas) (2023.3)\n",
      "Requirement already satisfied: six>=1.5 in /Users/alexglushko/PycharmProjects/ds-for-business/venv/lib/python3.9/site-packages (from python-dateutil>=2.8.2->pandas) (1.16.0)\n",
      "\u001b[33mWARNING: You are using pip version 22.0.4; however, version 23.1.2 is available.\n",
      "You should consider upgrading via the '/Users/alexglushko/PycharmProjects/ds-for-business/venv/bin/python -m pip install --upgrade pip' command.\u001b[0m\u001b[33m\n",
      "\u001b[0mNote: you may need to restart the kernel to use updated packages.\n",
      "Requirement already satisfied: matplotlib in /Users/alexglushko/PycharmProjects/ds-for-business/venv/lib/python3.9/site-packages (3.7.1)\n",
      "Requirement already satisfied: cycler>=0.10 in /Users/alexglushko/PycharmProjects/ds-for-business/venv/lib/python3.9/site-packages (from matplotlib) (0.11.0)\n",
      "Requirement already satisfied: importlib-resources>=3.2.0 in /Users/alexglushko/PycharmProjects/ds-for-business/venv/lib/python3.9/site-packages (from matplotlib) (5.12.0)\n",
      "Requirement already satisfied: numpy>=1.20 in /Users/alexglushko/PycharmProjects/ds-for-business/venv/lib/python3.9/site-packages (from matplotlib) (1.24.3)\n",
      "Requirement already satisfied: fonttools>=4.22.0 in /Users/alexglushko/PycharmProjects/ds-for-business/venv/lib/python3.9/site-packages (from matplotlib) (4.39.3)\n",
      "Requirement already satisfied: python-dateutil>=2.7 in /Users/alexglushko/PycharmProjects/ds-for-business/venv/lib/python3.9/site-packages (from matplotlib) (2.8.2)\n",
      "Requirement already satisfied: pillow>=6.2.0 in /Users/alexglushko/PycharmProjects/ds-for-business/venv/lib/python3.9/site-packages (from matplotlib) (9.5.0)\n",
      "Requirement already satisfied: pyparsing>=2.3.1 in /Users/alexglushko/PycharmProjects/ds-for-business/venv/lib/python3.9/site-packages (from matplotlib) (3.0.9)\n",
      "Requirement already satisfied: contourpy>=1.0.1 in /Users/alexglushko/PycharmProjects/ds-for-business/venv/lib/python3.9/site-packages (from matplotlib) (1.0.7)\n",
      "Requirement already satisfied: packaging>=20.0 in /Users/alexglushko/PycharmProjects/ds-for-business/venv/lib/python3.9/site-packages (from matplotlib) (23.1)\n",
      "Requirement already satisfied: kiwisolver>=1.0.1 in /Users/alexglushko/PycharmProjects/ds-for-business/venv/lib/python3.9/site-packages (from matplotlib) (1.4.4)\n",
      "Requirement already satisfied: zipp>=3.1.0 in /Users/alexglushko/PycharmProjects/ds-for-business/venv/lib/python3.9/site-packages (from importlib-resources>=3.2.0->matplotlib) (3.15.0)\n",
      "Requirement already satisfied: six>=1.5 in /Users/alexglushko/PycharmProjects/ds-for-business/venv/lib/python3.9/site-packages (from python-dateutil>=2.7->matplotlib) (1.16.0)\n",
      "\u001b[33mWARNING: You are using pip version 22.0.4; however, version 23.1.2 is available.\n",
      "You should consider upgrading via the '/Users/alexglushko/PycharmProjects/ds-for-business/venv/bin/python -m pip install --upgrade pip' command.\u001b[0m\u001b[33m\n",
      "\u001b[0mNote: you may need to restart the kernel to use updated packages.\n",
      "Requirement already satisfied: scikit-learn in /Users/alexglushko/PycharmProjects/ds-for-business/venv/lib/python3.9/site-packages (1.2.2)\n",
      "Requirement already satisfied: joblib>=1.1.1 in /Users/alexglushko/PycharmProjects/ds-for-business/venv/lib/python3.9/site-packages (from scikit-learn) (1.2.0)\n",
      "Requirement already satisfied: numpy>=1.17.3 in /Users/alexglushko/PycharmProjects/ds-for-business/venv/lib/python3.9/site-packages (from scikit-learn) (1.24.3)\n",
      "Requirement already satisfied: scipy>=1.3.2 in /Users/alexglushko/PycharmProjects/ds-for-business/venv/lib/python3.9/site-packages (from scikit-learn) (1.10.1)\n",
      "Requirement already satisfied: threadpoolctl>=2.0.0 in /Users/alexglushko/PycharmProjects/ds-for-business/venv/lib/python3.9/site-packages (from scikit-learn) (3.1.0)\n",
      "\u001b[33mWARNING: You are using pip version 22.0.4; however, version 23.1.2 is available.\n",
      "You should consider upgrading via the '/Users/alexglushko/PycharmProjects/ds-for-business/venv/bin/python -m pip install --upgrade pip' command.\u001b[0m\u001b[33m\n",
      "\u001b[0mNote: you may need to restart the kernel to use updated packages.\n",
      "Requirement already satisfied: seaborn in /Users/alexglushko/PycharmProjects/ds-for-business/venv/lib/python3.9/site-packages (0.12.2)\n",
      "Requirement already satisfied: pandas>=0.25 in /Users/alexglushko/PycharmProjects/ds-for-business/venv/lib/python3.9/site-packages (from seaborn) (2.0.1)\n",
      "Requirement already satisfied: numpy!=1.24.0,>=1.17 in /Users/alexglushko/PycharmProjects/ds-for-business/venv/lib/python3.9/site-packages (from seaborn) (1.24.3)\n",
      "Requirement already satisfied: matplotlib!=3.6.1,>=3.1 in /Users/alexglushko/PycharmProjects/ds-for-business/venv/lib/python3.9/site-packages (from seaborn) (3.7.1)\n",
      "Requirement already satisfied: pillow>=6.2.0 in /Users/alexglushko/PycharmProjects/ds-for-business/venv/lib/python3.9/site-packages (from matplotlib!=3.6.1,>=3.1->seaborn) (9.5.0)\n",
      "Requirement already satisfied: contourpy>=1.0.1 in /Users/alexglushko/PycharmProjects/ds-for-business/venv/lib/python3.9/site-packages (from matplotlib!=3.6.1,>=3.1->seaborn) (1.0.7)\n",
      "Requirement already satisfied: kiwisolver>=1.0.1 in /Users/alexglushko/PycharmProjects/ds-for-business/venv/lib/python3.9/site-packages (from matplotlib!=3.6.1,>=3.1->seaborn) (1.4.4)\n",
      "Requirement already satisfied: packaging>=20.0 in /Users/alexglushko/PycharmProjects/ds-for-business/venv/lib/python3.9/site-packages (from matplotlib!=3.6.1,>=3.1->seaborn) (23.1)\n",
      "Requirement already satisfied: python-dateutil>=2.7 in /Users/alexglushko/PycharmProjects/ds-for-business/venv/lib/python3.9/site-packages (from matplotlib!=3.6.1,>=3.1->seaborn) (2.8.2)\n",
      "Requirement already satisfied: pyparsing>=2.3.1 in /Users/alexglushko/PycharmProjects/ds-for-business/venv/lib/python3.9/site-packages (from matplotlib!=3.6.1,>=3.1->seaborn) (3.0.9)\n",
      "Requirement already satisfied: fonttools>=4.22.0 in /Users/alexglushko/PycharmProjects/ds-for-business/venv/lib/python3.9/site-packages (from matplotlib!=3.6.1,>=3.1->seaborn) (4.39.3)\n",
      "Requirement already satisfied: cycler>=0.10 in /Users/alexglushko/PycharmProjects/ds-for-business/venv/lib/python3.9/site-packages (from matplotlib!=3.6.1,>=3.1->seaborn) (0.11.0)\n",
      "Requirement already satisfied: importlib-resources>=3.2.0 in /Users/alexglushko/PycharmProjects/ds-for-business/venv/lib/python3.9/site-packages (from matplotlib!=3.6.1,>=3.1->seaborn) (5.12.0)\n",
      "Requirement already satisfied: tzdata>=2022.1 in /Users/alexglushko/PycharmProjects/ds-for-business/venv/lib/python3.9/site-packages (from pandas>=0.25->seaborn) (2023.3)\n",
      "Requirement already satisfied: pytz>=2020.1 in /Users/alexglushko/PycharmProjects/ds-for-business/venv/lib/python3.9/site-packages (from pandas>=0.25->seaborn) (2023.3)\n",
      "Requirement already satisfied: zipp>=3.1.0 in /Users/alexglushko/PycharmProjects/ds-for-business/venv/lib/python3.9/site-packages (from importlib-resources>=3.2.0->matplotlib!=3.6.1,>=3.1->seaborn) (3.15.0)\n",
      "Requirement already satisfied: six>=1.5 in /Users/alexglushko/PycharmProjects/ds-for-business/venv/lib/python3.9/site-packages (from python-dateutil>=2.7->matplotlib!=3.6.1,>=3.1->seaborn) (1.16.0)\n",
      "\u001b[33mWARNING: You are using pip version 22.0.4; however, version 23.1.2 is available.\n",
      "You should consider upgrading via the '/Users/alexglushko/PycharmProjects/ds-for-business/venv/bin/python -m pip install --upgrade pip' command.\u001b[0m\u001b[33m\n",
      "\u001b[0mNote: you may need to restart the kernel to use updated packages.\n"
     ]
    }
   ],
   "source": [
    "%pip install pandas\n",
    "%pip install matplotlib\n",
    "%pip install scikit-learn\n",
    "%pip install seaborn"
   ]
  },
  {
   "cell_type": "code",
   "execution_count": 2,
   "id": "fed0fe80",
   "metadata": {},
   "outputs": [],
   "source": [
    "import pandas as pd"
   ]
  },
  {
   "cell_type": "code",
   "execution_count": 3,
   "id": "8ab2dbb6",
   "metadata": {},
   "outputs": [],
   "source": [
    "df = pd.read_csv('train_dataset.csv')"
   ]
  },
  {
   "cell_type": "markdown",
   "id": "3a34d7dd",
   "metadata": {},
   "source": [
    "You are asked to build a model to predict the cost of acquiring a customer, the table contains the following features:\n",
    "1. Store specific information:\n",
    "    - store_sales(in millions) - store_sales(in million dollars)\n",
    "    - unit_sales(in millions) - unit_sales(in millions) in stores Quantity\n",
    "    - Store_sqft - STORE AREA AVAILABLE IN SQFT\n",
    "    - Units_per_case - UNITS/CASE UNITS AVAILABLE IN EACH STORE SHELVES\n",
    "    - Coffee_bar - COFFEE BAR available in store\n",
    "    - Video_store - VIDEO STORE/gaming store available\n",
    "    - Salad_bar - SALAD BAR available in store\n",
    "    - Prepared_food - food prepared available in store\n",
    "    - Florist - flower shelves available in store\n",
    "2. Customer related information:\n",
    "    - Total_children - TOTAL CHILDREN IN HOME\n",
    "    - avg_cars_at home(approx) - avg_cars_at home(approx)\n",
    "    - Num_children_at_home - num_children_at_home AS PER CUSTOMERS FILLED DETAILS\n",
    "    - Cost - COST ON ACQUIRING A CUSTOMERS in dollars\n",
    "3. Information about specific product (which was bought by a customer in the store):\n",
    "    - Gross_weight - gross_weight OF ITEM\n",
    "    - Recyclable_package - FOOD ITEM IS recyclable_package\n",
    "    - Low_fat - LOW_FAT FOOD ITEM IS LOW FAT\n",
    "    \n",
    "    \n",
    "![cfm](convinient_food_mart.jpg)\n",
    "    \n",
    "Recall, that this table contains already aggregated, anonymized, obfuscated and partially synthetic data. The dataset contains multiple rows per store, per customer, per item, but we do not have `customer_id`, `purchase_id`, `item_id`, `store_id` fields, thus making the analysis somehow limited. Though, it is ideal for our first home assignment.\n",
    "\n",
    "---\n",
    "\n",
    "Your goal for this home assignment is two-fold:\n",
    "1. Make you comfortable with data wrangling:\n",
    "    - Extract rows/columns statistics\n",
    "    - Visualize the dependencies\n",
    "    - Gain some insights\n",
    "2. Build a simple, but correct and full machine learning pipeline\n",
    "    - Select proper performance metrics\n",
    "    - Split the data into train and test subsets\n",
    "    - Run a k-fold cross-validation on a training part to select optimal hyperparameters of the model\n",
    "    - Train a model with optimal hyperparameters on the whole train set\n",
    "    - Make a predictions on test set\n",
    "    - Analyse the generalizability of the model by comparing its performance on train and test sets\n",
    "    - Comment on whether the resulting model is \"good\" or \"bad\" from business point of view"
   ]
  },
  {
   "cell_type": "markdown",
   "id": "35ad87ab",
   "metadata": {},
   "source": [
    "# Analyze general data information"
   ]
  },
  {
   "cell_type": "markdown",
   "id": "064f8374",
   "metadata": {},
   "source": [
    "## Question 0. What is the goal of this dataset?"
   ]
  },
  {
   "cell_type": "code",
   "execution_count": 4,
   "id": "7153deb3",
   "metadata": {},
   "outputs": [
    {
     "data": {
      "text/html": [
       "<div>\n",
       "<style scoped>\n",
       "    .dataframe tbody tr th:only-of-type {\n",
       "        vertical-align: middle;\n",
       "    }\n",
       "\n",
       "    .dataframe tbody tr th {\n",
       "        vertical-align: top;\n",
       "    }\n",
       "\n",
       "    .dataframe thead th {\n",
       "        text-align: right;\n",
       "    }\n",
       "</style>\n",
       "<table border=\"1\" class=\"dataframe\">\n",
       "  <thead>\n",
       "    <tr style=\"text-align: right;\">\n",
       "      <th></th>\n",
       "      <th>store_sales(in millions)</th>\n",
       "      <th>unit_sales(in millions)</th>\n",
       "      <th>total_children</th>\n",
       "      <th>num_children_at_home</th>\n",
       "      <th>avg_cars_at home(approx).1</th>\n",
       "      <th>gross_weight</th>\n",
       "      <th>recyclable_package</th>\n",
       "      <th>low_fat</th>\n",
       "      <th>units_per_case</th>\n",
       "      <th>store_sqft</th>\n",
       "      <th>coffee_bar</th>\n",
       "      <th>video_store</th>\n",
       "      <th>salad_bar</th>\n",
       "      <th>prepared_food</th>\n",
       "      <th>florist</th>\n",
       "      <th>cost</th>\n",
       "    </tr>\n",
       "  </thead>\n",
       "  <tbody>\n",
       "    <tr>\n",
       "      <th>0</th>\n",
       "      <td>2.68</td>\n",
       "      <td>2.0</td>\n",
       "      <td>1.0</td>\n",
       "      <td>0.0</td>\n",
       "      <td>2.0</td>\n",
       "      <td>6.30</td>\n",
       "      <td>1.0</td>\n",
       "      <td>0.0</td>\n",
       "      <td>22.0</td>\n",
       "      <td>30584.0</td>\n",
       "      <td>1.0</td>\n",
       "      <td>1.0</td>\n",
       "      <td>1.0</td>\n",
       "      <td>1.0</td>\n",
       "      <td>1.0</td>\n",
       "      <td>79.59</td>\n",
       "    </tr>\n",
       "    <tr>\n",
       "      <th>1</th>\n",
       "      <td>5.73</td>\n",
       "      <td>3.0</td>\n",
       "      <td>5.0</td>\n",
       "      <td>5.0</td>\n",
       "      <td>3.0</td>\n",
       "      <td>18.70</td>\n",
       "      <td>1.0</td>\n",
       "      <td>0.0</td>\n",
       "      <td>30.0</td>\n",
       "      <td>20319.0</td>\n",
       "      <td>0.0</td>\n",
       "      <td>0.0</td>\n",
       "      <td>0.0</td>\n",
       "      <td>0.0</td>\n",
       "      <td>0.0</td>\n",
       "      <td>118.36</td>\n",
       "    </tr>\n",
       "    <tr>\n",
       "      <th>2</th>\n",
       "      <td>2.62</td>\n",
       "      <td>2.0</td>\n",
       "      <td>1.0</td>\n",
       "      <td>1.0</td>\n",
       "      <td>1.0</td>\n",
       "      <td>9.21</td>\n",
       "      <td>0.0</td>\n",
       "      <td>0.0</td>\n",
       "      <td>9.0</td>\n",
       "      <td>20319.0</td>\n",
       "      <td>0.0</td>\n",
       "      <td>0.0</td>\n",
       "      <td>0.0</td>\n",
       "      <td>0.0</td>\n",
       "      <td>0.0</td>\n",
       "      <td>67.20</td>\n",
       "    </tr>\n",
       "  </tbody>\n",
       "</table>\n",
       "</div>"
      ],
      "text/plain": [
       "   store_sales(in millions)  unit_sales(in millions)  total_children   \n",
       "0                      2.68                      2.0             1.0  \\\n",
       "1                      5.73                      3.0             5.0   \n",
       "2                      2.62                      2.0             1.0   \n",
       "\n",
       "   num_children_at_home  avg_cars_at home(approx).1  gross_weight   \n",
       "0                   0.0                         2.0          6.30  \\\n",
       "1                   5.0                         3.0         18.70   \n",
       "2                   1.0                         1.0          9.21   \n",
       "\n",
       "   recyclable_package  low_fat  units_per_case  store_sqft  coffee_bar   \n",
       "0                 1.0      0.0            22.0     30584.0         1.0  \\\n",
       "1                 1.0      0.0            30.0     20319.0         0.0   \n",
       "2                 0.0      0.0             9.0     20319.0         0.0   \n",
       "\n",
       "   video_store  salad_bar  prepared_food  florist    cost  \n",
       "0          1.0        1.0            1.0      1.0   79.59  \n",
       "1          0.0        0.0            0.0      0.0  118.36  \n",
       "2          0.0        0.0            0.0      0.0   67.20  "
      ]
     },
     "execution_count": 4,
     "metadata": {},
     "output_type": "execute_result"
    }
   ],
   "source": [
    "df.head(3)"
   ]
  },
  {
   "cell_type": "markdown",
   "id": "125d8cb4",
   "metadata": {},
   "source": [
    "## Question 1. How many observations are in the dataset?"
   ]
  },
  {
   "cell_type": "code",
   "execution_count": 5,
   "id": "92288e43",
   "metadata": {},
   "outputs": [
    {
     "data": {
      "text/plain": [
       "51363"
      ]
     },
     "execution_count": 5,
     "metadata": {},
     "output_type": "execute_result"
    }
   ],
   "source": [
    "df.shape[0]"
   ]
  },
  {
   "cell_type": "markdown",
   "id": "ba7641fb",
   "metadata": {},
   "source": [
    "## Question 2. How many features are in the dataset? (excluding `target` column)"
   ]
  },
  {
   "cell_type": "code",
   "execution_count": 6,
   "id": "ac0b0269",
   "metadata": {},
   "outputs": [
    {
     "data": {
      "text/plain": [
       "15"
      ]
     },
     "execution_count": 6,
     "metadata": {},
     "output_type": "execute_result"
    }
   ],
   "source": [
    "df.drop('cost', axis=1).shape[1]"
   ]
  },
  {
   "cell_type": "markdown",
   "id": "629c78b6",
   "metadata": {},
   "source": [
    "## Question 3. What is the difference between numerical and categorical features?\n",
    "\n",
    "Which of the following best describes the difference between categorical and numerical features in machine learning?"
   ]
  },
  {
   "attachments": {},
   "cell_type": "markdown",
   "id": "0352f6b4",
   "metadata": {},
   "source": [
    "Categorical features represent distinct categories or labels with no inherent numerical order, while numerical features represent measurable quantities with numerical values."
   ]
  },
  {
   "cell_type": "markdown",
   "id": "e85dc0df",
   "metadata": {},
   "source": [
    "## Question 4. How many numerical and categorical features are in the dataset?  (excluding `target` column)"
   ]
  },
  {
   "cell_type": "code",
   "execution_count": 7,
   "id": "6207ab25",
   "metadata": {},
   "outputs": [
    {
     "data": {
      "text/html": [
       "<div>\n",
       "<style scoped>\n",
       "    .dataframe tbody tr th:only-of-type {\n",
       "        vertical-align: middle;\n",
       "    }\n",
       "\n",
       "    .dataframe tbody tr th {\n",
       "        vertical-align: top;\n",
       "    }\n",
       "\n",
       "    .dataframe thead th {\n",
       "        text-align: right;\n",
       "    }\n",
       "</style>\n",
       "<table border=\"1\" class=\"dataframe\">\n",
       "  <thead>\n",
       "    <tr style=\"text-align: right;\">\n",
       "      <th></th>\n",
       "      <th>count</th>\n",
       "      <th>mean</th>\n",
       "      <th>std</th>\n",
       "      <th>min</th>\n",
       "      <th>25%</th>\n",
       "      <th>50%</th>\n",
       "      <th>75%</th>\n",
       "      <th>max</th>\n",
       "    </tr>\n",
       "  </thead>\n",
       "  <tbody>\n",
       "    <tr>\n",
       "      <th>store_sales(in millions)</th>\n",
       "      <td>51363.0</td>\n",
       "      <td>6.531792</td>\n",
       "      <td>3.464902</td>\n",
       "      <td>0.51</td>\n",
       "      <td>3.8</td>\n",
       "      <td>5.94</td>\n",
       "      <td>8.64</td>\n",
       "      <td>22.92</td>\n",
       "    </tr>\n",
       "    <tr>\n",
       "      <th>unit_sales(in millions)</th>\n",
       "      <td>51363.0</td>\n",
       "      <td>3.091194</td>\n",
       "      <td>0.827293</td>\n",
       "      <td>1.00</td>\n",
       "      <td>3.0</td>\n",
       "      <td>3.00</td>\n",
       "      <td>4.00</td>\n",
       "      <td>6.00</td>\n",
       "    </tr>\n",
       "    <tr>\n",
       "      <th>total_children</th>\n",
       "      <td>51363.0</td>\n",
       "      <td>2.538111</td>\n",
       "      <td>1.489316</td>\n",
       "      <td>0.00</td>\n",
       "      <td>1.0</td>\n",
       "      <td>3.00</td>\n",
       "      <td>4.00</td>\n",
       "      <td>5.00</td>\n",
       "    </tr>\n",
       "    <tr>\n",
       "      <th>num_children_at_home</th>\n",
       "      <td>51363.0</td>\n",
       "      <td>0.832019</td>\n",
       "      <td>1.303775</td>\n",
       "      <td>0.00</td>\n",
       "      <td>0.0</td>\n",
       "      <td>0.00</td>\n",
       "      <td>1.00</td>\n",
       "      <td>5.00</td>\n",
       "    </tr>\n",
       "    <tr>\n",
       "      <th>avg_cars_at home(approx).1</th>\n",
       "      <td>51363.0</td>\n",
       "      <td>2.199424</td>\n",
       "      <td>1.109080</td>\n",
       "      <td>0.00</td>\n",
       "      <td>1.0</td>\n",
       "      <td>2.00</td>\n",
       "      <td>3.00</td>\n",
       "      <td>4.00</td>\n",
       "    </tr>\n",
       "    <tr>\n",
       "      <th>gross_weight</th>\n",
       "      <td>51363.0</td>\n",
       "      <td>13.805512</td>\n",
       "      <td>4.622431</td>\n",
       "      <td>6.00</td>\n",
       "      <td>9.7</td>\n",
       "      <td>13.60</td>\n",
       "      <td>17.70</td>\n",
       "      <td>21.90</td>\n",
       "    </tr>\n",
       "    <tr>\n",
       "      <th>recyclable_package</th>\n",
       "      <td>51363.0</td>\n",
       "      <td>0.558437</td>\n",
       "      <td>0.496578</td>\n",
       "      <td>0.00</td>\n",
       "      <td>0.0</td>\n",
       "      <td>1.00</td>\n",
       "      <td>1.00</td>\n",
       "      <td>1.00</td>\n",
       "    </tr>\n",
       "    <tr>\n",
       "      <th>low_fat</th>\n",
       "      <td>51363.0</td>\n",
       "      <td>0.351148</td>\n",
       "      <td>0.477334</td>\n",
       "      <td>0.00</td>\n",
       "      <td>0.0</td>\n",
       "      <td>0.00</td>\n",
       "      <td>1.00</td>\n",
       "      <td>1.00</td>\n",
       "    </tr>\n",
       "    <tr>\n",
       "      <th>units_per_case</th>\n",
       "      <td>51363.0</td>\n",
       "      <td>18.856550</td>\n",
       "      <td>10.263746</td>\n",
       "      <td>1.00</td>\n",
       "      <td>10.0</td>\n",
       "      <td>19.00</td>\n",
       "      <td>28.00</td>\n",
       "      <td>36.00</td>\n",
       "    </tr>\n",
       "    <tr>\n",
       "      <th>store_sqft</th>\n",
       "      <td>51363.0</td>\n",
       "      <td>27979.153593</td>\n",
       "      <td>5701.145280</td>\n",
       "      <td>20319.00</td>\n",
       "      <td>23593.0</td>\n",
       "      <td>27694.00</td>\n",
       "      <td>30797.00</td>\n",
       "      <td>39696.00</td>\n",
       "    </tr>\n",
       "    <tr>\n",
       "      <th>coffee_bar</th>\n",
       "      <td>51363.0</td>\n",
       "      <td>0.612367</td>\n",
       "      <td>0.487215</td>\n",
       "      <td>0.00</td>\n",
       "      <td>0.0</td>\n",
       "      <td>1.00</td>\n",
       "      <td>1.00</td>\n",
       "      <td>1.00</td>\n",
       "    </tr>\n",
       "    <tr>\n",
       "      <th>video_store</th>\n",
       "      <td>51363.0</td>\n",
       "      <td>0.353776</td>\n",
       "      <td>0.478145</td>\n",
       "      <td>0.00</td>\n",
       "      <td>0.0</td>\n",
       "      <td>0.00</td>\n",
       "      <td>1.00</td>\n",
       "      <td>1.00</td>\n",
       "    </tr>\n",
       "    <tr>\n",
       "      <th>salad_bar</th>\n",
       "      <td>51363.0</td>\n",
       "      <td>0.588011</td>\n",
       "      <td>0.492198</td>\n",
       "      <td>0.00</td>\n",
       "      <td>0.0</td>\n",
       "      <td>1.00</td>\n",
       "      <td>1.00</td>\n",
       "      <td>1.00</td>\n",
       "    </tr>\n",
       "    <tr>\n",
       "      <th>prepared_food</th>\n",
       "      <td>51363.0</td>\n",
       "      <td>0.588011</td>\n",
       "      <td>0.492198</td>\n",
       "      <td>0.00</td>\n",
       "      <td>0.0</td>\n",
       "      <td>1.00</td>\n",
       "      <td>1.00</td>\n",
       "      <td>1.00</td>\n",
       "    </tr>\n",
       "    <tr>\n",
       "      <th>florist</th>\n",
       "      <td>51363.0</td>\n",
       "      <td>0.561825</td>\n",
       "      <td>0.496168</td>\n",
       "      <td>0.00</td>\n",
       "      <td>0.0</td>\n",
       "      <td>1.00</td>\n",
       "      <td>1.00</td>\n",
       "      <td>1.00</td>\n",
       "    </tr>\n",
       "  </tbody>\n",
       "</table>\n",
       "</div>"
      ],
      "text/plain": [
       "                              count          mean          std       min   \n",
       "store_sales(in millions)    51363.0      6.531792     3.464902      0.51  \\\n",
       "unit_sales(in millions)     51363.0      3.091194     0.827293      1.00   \n",
       "total_children              51363.0      2.538111     1.489316      0.00   \n",
       "num_children_at_home        51363.0      0.832019     1.303775      0.00   \n",
       "avg_cars_at home(approx).1  51363.0      2.199424     1.109080      0.00   \n",
       "gross_weight                51363.0     13.805512     4.622431      6.00   \n",
       "recyclable_package          51363.0      0.558437     0.496578      0.00   \n",
       "low_fat                     51363.0      0.351148     0.477334      0.00   \n",
       "units_per_case              51363.0     18.856550    10.263746      1.00   \n",
       "store_sqft                  51363.0  27979.153593  5701.145280  20319.00   \n",
       "coffee_bar                  51363.0      0.612367     0.487215      0.00   \n",
       "video_store                 51363.0      0.353776     0.478145      0.00   \n",
       "salad_bar                   51363.0      0.588011     0.492198      0.00   \n",
       "prepared_food               51363.0      0.588011     0.492198      0.00   \n",
       "florist                     51363.0      0.561825     0.496168      0.00   \n",
       "\n",
       "                                25%       50%       75%       max  \n",
       "store_sales(in millions)        3.8      5.94      8.64     22.92  \n",
       "unit_sales(in millions)         3.0      3.00      4.00      6.00  \n",
       "total_children                  1.0      3.00      4.00      5.00  \n",
       "num_children_at_home            0.0      0.00      1.00      5.00  \n",
       "avg_cars_at home(approx).1      1.0      2.00      3.00      4.00  \n",
       "gross_weight                    9.7     13.60     17.70     21.90  \n",
       "recyclable_package              0.0      1.00      1.00      1.00  \n",
       "low_fat                         0.0      0.00      1.00      1.00  \n",
       "units_per_case                 10.0     19.00     28.00     36.00  \n",
       "store_sqft                  23593.0  27694.00  30797.00  39696.00  \n",
       "coffee_bar                      0.0      1.00      1.00      1.00  \n",
       "video_store                     0.0      0.00      1.00      1.00  \n",
       "salad_bar                       0.0      1.00      1.00      1.00  \n",
       "prepared_food                   0.0      1.00      1.00      1.00  \n",
       "florist                         0.0      1.00      1.00      1.00  "
      ]
     },
     "execution_count": 7,
     "metadata": {},
     "output_type": "execute_result"
    }
   ],
   "source": [
    "df_desc = df.drop('cost', axis=1).describe().T\n",
    "df_desc"
   ]
  },
  {
   "cell_type": "code",
   "execution_count": 8,
   "id": "b56944b1",
   "metadata": {},
   "outputs": [
    {
     "name": "stdout",
     "output_type": "stream",
     "text": [
      "Number categorical: 7\n",
      "Number numerical: 8\n"
     ]
    },
    {
     "name": "stderr",
     "output_type": "stream",
     "text": [
      "/var/folders/03/8g_v72pd32vfbhfq91cfy1780000gn/T/ipykernel_79169/2531921071.py:1: UserWarning: Boolean Series key will be reindexed to match DataFrame index.\n",
      "  number_categorical = df_desc[df_desc['min'] == 0][df_desc['max'] == 1].shape[0]\n"
     ]
    }
   ],
   "source": [
    "number_categorical = df_desc[df_desc['min'] == 0][df_desc['max'] == 1].shape[0]\n",
    "number_numerical = df_desc.shape[0] - number_categorical\n",
    "print(f\"Number categorical: {number_categorical}\\nNumber numerical: {number_numerical}\")"
   ]
  },
  {
   "cell_type": "markdown",
   "id": "91b1c9d7",
   "metadata": {},
   "source": [
    "# Analyze store specific information"
   ]
  },
  {
   "cell_type": "markdown",
   "id": "abcb2c65",
   "metadata": {},
   "source": [
    "## In most cases stores which have a Coffee bar, do prepare food"
   ]
  },
  {
   "cell_type": "code",
   "execution_count": 9,
   "id": "96309978",
   "metadata": {},
   "outputs": [],
   "source": [
    "from sklearn.metrics import confusion_matrix\n",
    "import seaborn as sns\n",
    "import matplotlib.pyplot as plt"
   ]
  },
  {
   "cell_type": "code",
   "execution_count": 10,
   "id": "95c1b717",
   "metadata": {},
   "outputs": [
    {
     "data": {
      "text/plain": [
       "Text(0.5, 1.0, 'Confusion Matrix Heatmap')"
      ]
     },
     "execution_count": 10,
     "metadata": {},
     "output_type": "execute_result"
    },
    {
     "data": {
      "image/png": "[encoded data removed]",
      "text/plain": [
       "<Figure size 640x480 with 1 Axes>"
      ]
     },
     "metadata": {},
     "output_type": "display_data"
    }
   ],
   "source": [
    "# Compute a confusion matrix\n",
    "cm = confusion_matrix(df['coffee_bar'], df['prepared_food'])\n",
    "\n",
    "# Create a heatmap with seaborn\n",
    "sns.heatmap(cm, annot=True, cmap='Blues', fmt='g', cbar=False)\n",
    "\n",
    "# Add labels to the x-axis and y-axis\n",
    "plt.xlabel('coffee_bar')\n",
    "plt.ylabel('prepared_food')\n",
    "\n",
    "# Add a title\n",
    "plt.title('Confusion Matrix Heatmap')"
   ]
  },
  {
   "cell_type": "markdown",
   "id": "a755b22e",
   "metadata": {},
   "source": [
    "## Question 5. How many stores which have a Salad bar do prepare food?\n",
    "\n",
    "Based on your answer decide if you need to drop one of the (duplicated) columns."
   ]
  },
  {
   "cell_type": "code",
   "execution_count": 11,
   "id": "4277e2d7",
   "metadata": {},
   "outputs": [
    {
     "data": {
      "text/plain": [
       "Text(0.5, 1.0, 'Confusion Matrix Heatmap')"
      ]
     },
     "execution_count": 11,
     "metadata": {},
     "output_type": "execute_result"
    },
    {
     "data": {
      "image/png": "[encoded data removed]",
      "text/plain": [
       "<Figure size 640x480 with 1 Axes>"
      ]
     },
     "metadata": {},
     "output_type": "display_data"
    }
   ],
   "source": [
    "# Compute a confusion matrix\n",
    "cm = confusion_matrix(df['salad_bar'], df['prepared_food'])\n",
    "\n",
    "# Create a heatmap with seaborn\n",
    "sns.heatmap(cm, annot=True, cmap='Blues', fmt='g', cbar=False)\n",
    "\n",
    "# Add labels to the x-axis and y-axis\n",
    "plt.xlabel('salad_bar')\n",
    "plt.ylabel('prepared_food')\n",
    "\n",
    "# Add a title\n",
    "plt.title('Confusion Matrix Heatmap')"
   ]
  },
  {
   "attachments": {},
   "cell_type": "markdown",
   "id": "b735041d",
   "metadata": {},
   "source": [
    "We need to drop salad bar, becouse if we save prepared food we always have salad bar and if we have prepared food we always have salad bar."
   ]
  },
  {
   "attachments": {},
   "cell_type": "markdown",
   "id": "2345eedf",
   "metadata": {},
   "source": [
    "## Having a Coffee bar decreases the average media campaign cost"
   ]
  },
  {
   "cell_type": "code",
   "execution_count": 12,
   "id": "f41bd65e",
   "metadata": {},
   "outputs": [
    {
     "data": {
      "text/plain": [
       "Text(0, 0.5, 'Marketing cost')"
      ]
     },
     "execution_count": 12,
     "metadata": {},
     "output_type": "execute_result"
    },
    {
     "data": {
      "image/png": "[encoded data removed]",
      "text/plain": [
       "<Figure size 640x480 with 1 Axes>"
      ]
     },
     "metadata": {},
     "output_type": "display_data"
    }
   ],
   "source": [
    "sns.boxplot(data=df, x='coffee_bar', y='cost', width=.3)\n",
    "plt.xlabel('Coffee bar')\n",
    "plt.ylabel('Marketing cost')"
   ]
  },
  {
   "cell_type": "code",
   "execution_count": 13,
   "id": "91bae752",
   "metadata": {},
   "outputs": [
    {
     "data": {
      "text/html": [
       "<div>\n",
       "<style scoped>\n",
       "    .dataframe tbody tr th:only-of-type {\n",
       "        vertical-align: middle;\n",
       "    }\n",
       "\n",
       "    .dataframe tbody tr th {\n",
       "        vertical-align: top;\n",
       "    }\n",
       "\n",
       "    .dataframe thead th {\n",
       "        text-align: right;\n",
       "    }\n",
       "</style>\n",
       "<table border=\"1\" class=\"dataframe\">\n",
       "  <thead>\n",
       "    <tr style=\"text-align: right;\">\n",
       "      <th></th>\n",
       "      <th>mean</th>\n",
       "      <th>median</th>\n",
       "      <th>std</th>\n",
       "    </tr>\n",
       "    <tr>\n",
       "      <th>coffee_bar</th>\n",
       "      <th></th>\n",
       "      <th></th>\n",
       "      <th></th>\n",
       "    </tr>\n",
       "  </thead>\n",
       "  <tbody>\n",
       "    <tr>\n",
       "      <th>0.0</th>\n",
       "      <td>101.659804</td>\n",
       "      <td>105.74</td>\n",
       "      <td>30.162547</td>\n",
       "    </tr>\n",
       "    <tr>\n",
       "      <th>1.0</th>\n",
       "      <td>97.850422</td>\n",
       "      <td>94.79</td>\n",
       "      <td>29.841456</td>\n",
       "    </tr>\n",
       "  </tbody>\n",
       "</table>\n",
       "</div>"
      ],
      "text/plain": [
       "                  mean  median        std\n",
       "coffee_bar                               \n",
       "0.0         101.659804  105.74  30.162547\n",
       "1.0          97.850422   94.79  29.841456"
      ]
     },
     "execution_count": 13,
     "metadata": {},
     "output_type": "execute_result"
    }
   ],
   "source": [
    "df.groupby('coffee_bar')['cost'].agg(['mean', 'median', 'std'])"
   ]
  },
  {
   "cell_type": "markdown",
   "id": "8a41b144",
   "metadata": {},
   "source": [
    "## Question 6. Does having a video store, a salad bar, an option to buy prepared food or a\tflorist decreases the average cost of media campaign?"
   ]
  },
  {
   "cell_type": "code",
   "execution_count": 14,
   "id": "915148c2",
   "metadata": {},
   "outputs": [
    {
     "data": {
      "text/plain": [
       "Text(0, 0.5, 'Marketing cost')"
      ]
     },
     "execution_count": 14,
     "metadata": {},
     "output_type": "execute_result"
    },
    {
     "data": {
      "image/png": "[encoded data removed]",
      "text/plain": [
       "<Figure size 640x480 with 1 Axes>"
      ]
     },
     "metadata": {},
     "output_type": "display_data"
    }
   ],
   "source": [
    "sns.boxplot(data=df, x='video_store', y='cost', width=.3)\n",
    "plt.xlabel('Video store')\n",
    "plt.ylabel('Marketing cost')"
   ]
  },
  {
   "cell_type": "code",
   "execution_count": 15,
   "id": "90d50161",
   "metadata": {},
   "outputs": [
    {
     "data": {
      "text/html": [
       "<div>\n",
       "<style scoped>\n",
       "    .dataframe tbody tr th:only-of-type {\n",
       "        vertical-align: middle;\n",
       "    }\n",
       "\n",
       "    .dataframe tbody tr th {\n",
       "        vertical-align: top;\n",
       "    }\n",
       "\n",
       "    .dataframe thead th {\n",
       "        text-align: right;\n",
       "    }\n",
       "</style>\n",
       "<table border=\"1\" class=\"dataframe\">\n",
       "  <thead>\n",
       "    <tr style=\"text-align: right;\">\n",
       "      <th></th>\n",
       "      <th>mean</th>\n",
       "      <th>median</th>\n",
       "      <th>std</th>\n",
       "    </tr>\n",
       "    <tr>\n",
       "      <th>video_store</th>\n",
       "      <th></th>\n",
       "      <th></th>\n",
       "      <th></th>\n",
       "    </tr>\n",
       "  </thead>\n",
       "  <tbody>\n",
       "    <tr>\n",
       "      <th>0.0</th>\n",
       "      <td>101.781734</td>\n",
       "      <td>101.84</td>\n",
       "      <td>30.035569</td>\n",
       "    </tr>\n",
       "    <tr>\n",
       "      <th>1.0</th>\n",
       "      <td>94.843250</td>\n",
       "      <td>92.57</td>\n",
       "      <td>29.479086</td>\n",
       "    </tr>\n",
       "  </tbody>\n",
       "</table>\n",
       "</div>"
      ],
      "text/plain": [
       "                   mean  median        std\n",
       "video_store                               \n",
       "0.0          101.781734  101.84  30.035569\n",
       "1.0           94.843250   92.57  29.479086"
      ]
     },
     "execution_count": 15,
     "metadata": {},
     "output_type": "execute_result"
    }
   ],
   "source": [
    "df.groupby('video_store')['cost'].agg(['mean', 'median', 'std'])"
   ]
  },
  {
   "cell_type": "code",
   "execution_count": 16,
   "id": "bf499b2c",
   "metadata": {},
   "outputs": [
    {
     "data": {
      "text/plain": [
       "Text(0, 0.5, 'Marketing cost')"
      ]
     },
     "execution_count": 16,
     "metadata": {},
     "output_type": "execute_result"
    },
    {
     "data": {
      "image/png": "[encoded data removed]",
      "text/plain": [
       "<Figure size 640x480 with 1 Axes>"
      ]
     },
     "metadata": {},
     "output_type": "display_data"
    }
   ],
   "source": [
    "sns.boxplot(data=df, x='prepared_food', y='cost', width=.3)\n",
    "plt.xlabel('Option to buy prepared food')\n",
    "plt.ylabel('Marketing cost')"
   ]
  },
  {
   "cell_type": "code",
   "execution_count": 17,
   "id": "81503501",
   "metadata": {},
   "outputs": [
    {
     "data": {
      "text/html": [
       "<div>\n",
       "<style scoped>\n",
       "    .dataframe tbody tr th:only-of-type {\n",
       "        vertical-align: middle;\n",
       "    }\n",
       "\n",
       "    .dataframe tbody tr th {\n",
       "        vertical-align: top;\n",
       "    }\n",
       "\n",
       "    .dataframe thead th {\n",
       "        text-align: right;\n",
       "    }\n",
       "</style>\n",
       "<table border=\"1\" class=\"dataframe\">\n",
       "  <thead>\n",
       "    <tr style=\"text-align: right;\">\n",
       "      <th></th>\n",
       "      <th>mean</th>\n",
       "      <th>median</th>\n",
       "      <th>std</th>\n",
       "    </tr>\n",
       "    <tr>\n",
       "      <th>prepared_food</th>\n",
       "      <th></th>\n",
       "      <th></th>\n",
       "      <th></th>\n",
       "    </tr>\n",
       "  </thead>\n",
       "  <tbody>\n",
       "    <tr>\n",
       "      <th>0.0</th>\n",
       "      <td>102.750251</td>\n",
       "      <td>103.90</td>\n",
       "      <td>29.947633</td>\n",
       "    </tr>\n",
       "    <tr>\n",
       "      <th>1.0</th>\n",
       "      <td>96.928612</td>\n",
       "      <td>95.45</td>\n",
       "      <td>29.843937</td>\n",
       "    </tr>\n",
       "  </tbody>\n",
       "</table>\n",
       "</div>"
      ],
      "text/plain": [
       "                     mean  median        std\n",
       "prepared_food                               \n",
       "0.0            102.750251  103.90  29.947633\n",
       "1.0             96.928612   95.45  29.843937"
      ]
     },
     "execution_count": 17,
     "metadata": {},
     "output_type": "execute_result"
    }
   ],
   "source": [
    "df.groupby('prepared_food')['cost'].agg(['mean', 'median', 'std'])"
   ]
  },
  {
   "cell_type": "code",
   "execution_count": 18,
   "id": "430523e4",
   "metadata": {},
   "outputs": [
    {
     "data": {
      "text/plain": [
       "Text(0, 0.5, 'Marketing cost')"
      ]
     },
     "execution_count": 18,
     "metadata": {},
     "output_type": "execute_result"
    },
    {
     "data": {
      "image/png": "[encoded data removed]",
      "text/plain": [
       "<Figure size 640x480 with 1 Axes>"
      ]
     },
     "metadata": {},
     "output_type": "display_data"
    }
   ],
   "source": [
    "sns.boxplot(data=df, x='florist', y='cost', width=.3)\n",
    "plt.xlabel('Florist')\n",
    "plt.ylabel('Marketing cost')"
   ]
  },
  {
   "cell_type": "code",
   "execution_count": 19,
   "id": "f9bc3fac",
   "metadata": {},
   "outputs": [
    {
     "data": {
      "text/html": [
       "<div>\n",
       "<style scoped>\n",
       "    .dataframe tbody tr th:only-of-type {\n",
       "        vertical-align: middle;\n",
       "    }\n",
       "\n",
       "    .dataframe tbody tr th {\n",
       "        vertical-align: top;\n",
       "    }\n",
       "\n",
       "    .dataframe thead th {\n",
       "        text-align: right;\n",
       "    }\n",
       "</style>\n",
       "<table border=\"1\" class=\"dataframe\">\n",
       "  <thead>\n",
       "    <tr style=\"text-align: right;\">\n",
       "      <th></th>\n",
       "      <th>mean</th>\n",
       "      <th>median</th>\n",
       "      <th>std</th>\n",
       "    </tr>\n",
       "    <tr>\n",
       "      <th>florist</th>\n",
       "      <th></th>\n",
       "      <th></th>\n",
       "      <th></th>\n",
       "    </tr>\n",
       "  </thead>\n",
       "  <tbody>\n",
       "    <tr>\n",
       "      <th>0.0</th>\n",
       "      <td>102.373140</td>\n",
       "      <td>105.74</td>\n",
       "      <td>29.258121</td>\n",
       "    </tr>\n",
       "    <tr>\n",
       "      <th>1.0</th>\n",
       "      <td>96.951385</td>\n",
       "      <td>94.79</td>\n",
       "      <td>30.396434</td>\n",
       "    </tr>\n",
       "  </tbody>\n",
       "</table>\n",
       "</div>"
      ],
      "text/plain": [
       "               mean  median        std\n",
       "florist                               \n",
       "0.0      102.373140  105.74  29.258121\n",
       "1.0       96.951385   94.79  30.396434"
      ]
     },
     "execution_count": 19,
     "metadata": {},
     "output_type": "execute_result"
    }
   ],
   "source": [
    "df.groupby('florist')['cost'].agg(['mean', 'median', 'std'])"
   ]
  },
  {
   "cell_type": "markdown",
   "id": "5ae849f2",
   "metadata": {},
   "source": [
    "## Most of the stores have under 15 mln sales, with 90% of sales being under 12 mln.\n",
    "\n",
    "The distribution is right-skewed (positive skew), with mean around 6.5mln."
   ]
  },
  {
   "cell_type": "code",
   "execution_count": 20,
   "id": "3712c5e2",
   "metadata": {},
   "outputs": [
    {
     "data": {
      "image/png": "[encoded data removed]",
      "text/plain": [
       "<Figure size 640x480 with 1 Axes>"
      ]
     },
     "metadata": {},
     "output_type": "display_data"
    }
   ],
   "source": [
    "sns.histplot(df['store_sales(in millions)'], kde=True, bins=20)\n",
    "plt.title(f'Distribution of store sales, in millions $');"
   ]
  },
  {
   "cell_type": "code",
   "execution_count": 21,
   "id": "4a54d133",
   "metadata": {},
   "outputs": [
    {
     "data": {
      "text/plain": [
       "11.85"
      ]
     },
     "execution_count": 21,
     "metadata": {},
     "output_type": "execute_result"
    }
   ],
   "source": [
    "df['store_sales(in millions)'].quantile(0.93)"
   ]
  },
  {
   "cell_type": "code",
   "execution_count": 22,
   "id": "b7e1c38f",
   "metadata": {},
   "outputs": [
    {
     "data": {
      "text/plain": [
       "6.531791562019353"
      ]
     },
     "execution_count": 22,
     "metadata": {},
     "output_type": "execute_result"
    }
   ],
   "source": [
    "df['store_sales(in millions)'].mean()"
   ]
  },
  {
   "cell_type": "markdown",
   "id": "dc693c3a",
   "metadata": {},
   "source": [
    "## Question 7. What could you say about distribution of marketing costs?\n"
   ]
  },
  {
   "cell_type": "code",
   "execution_count": 23,
   "id": "271044d8",
   "metadata": {},
   "outputs": [
    {
     "data": {
      "image/png": "[encoded data removed]",
      "text/plain": [
       "<Figure size 640x480 with 1 Axes>"
      ]
     },
     "metadata": {},
     "output_type": "display_data"
    }
   ],
   "source": [
    "sns.histplot(df['cost'], kde=True, bins=20)\n",
    "plt.title(f'Distribution of marketing costs, in millions $');"
   ]
  },
  {
   "cell_type": "markdown",
   "id": "71605abb",
   "metadata": {},
   "source": [
    "## Question 8. What percentage of sales go into marketing cost?\n",
    "\n",
    "Assuming that all rows with the same `store_sales(in millions)` come from the same store, and that all rows are from unique customers, the total sales are $7979 \\text{mln}, \\$ $, and the total costs are $5101736\\$$.\n"
   ]
  },
  {
   "cell_type": "code",
   "execution_count": 24,
   "id": "428d7352",
   "metadata": {},
   "outputs": [
    {
     "data": {
      "text/plain": [
       "7979.009999999999"
      ]
     },
     "execution_count": 24,
     "metadata": {},
     "output_type": "execute_result"
    }
   ],
   "source": [
    "store_sales_sum = df['store_sales(in millions)'].unique().sum()\n",
    "store_sales_sum"
   ]
  },
  {
   "cell_type": "code",
   "execution_count": 25,
   "id": "41249f78",
   "metadata": {},
   "outputs": [
    {
     "data": {
      "text/plain": [
       "5101736.01"
      ]
     },
     "execution_count": 25,
     "metadata": {},
     "output_type": "execute_result"
    }
   ],
   "source": [
    "costs_sum = df['cost'].sum()\n",
    "costs_sum"
   ]
  },
  {
   "cell_type": "code",
   "execution_count": 26,
   "id": "34a7080a",
   "metadata": {},
   "outputs": [
    {
     "name": "stdout",
     "output_type": "stream",
     "text": [
      "Marketing costs persantage: 0.06%\n"
     ]
    }
   ],
   "source": [
    "costs_percentage = round(costs_sum / (store_sales_sum * 1_000_000) * 100, 2)\n",
    "print(f\"Marketing costs persantage: {costs_percentage}%\")"
   ]
  },
  {
   "cell_type": "markdown",
   "id": "cdbed01d",
   "metadata": {},
   "source": [
    "## Here is a plot of sales vs store area\n",
    "\n",
    "It seems that while there is no clear dependence (stores with the largest sales vary in the square foot area a lot), \n",
    "there are some obvious clusters, e.g. stores with about 25000 square feet area and sales between 3 and 7 mln."
   ]
  },
  {
   "cell_type": "code",
   "execution_count": 27,
   "id": "3abe0bbd",
   "metadata": {},
   "outputs": [
    {
     "name": "stderr",
     "output_type": "stream",
     "text": [
      "/var/folders/03/8g_v72pd32vfbhfq91cfy1780000gn/T/ipykernel_79169/2920269509.py:6: UserWarning: Ignoring `palette` because no `hue` variable has been assigned.\n",
      "  sns.kdeplot(data=sub, x='store_sales(in millions)', y='store_sqft',\n"
     ]
    },
    {
     "data": {
      "text/plain": [
       "<Axes: xlabel='store_sales(in millions)', ylabel='store_sqft'>"
      ]
     },
     "execution_count": 27,
     "metadata": {},
     "output_type": "execute_result"
    },
    {
     "data": {
      "image/png": "[encoded data removed]",
      "text/plain": [
       "<Figure size 640x480 with 1 Axes>"
      ]
     },
     "metadata": {},
     "output_type": "display_data"
    }
   ],
   "source": [
    "sub = df[['store_sales(in millions)','store_sqft']].drop_duplicates()\n",
    "sub = sub[::20]\n",
    "\n",
    "plt.scatter(sub['store_sales(in millions)'], sub['store_sqft'], s=3, alpha=0.6)\n",
    "\n",
    "sns.kdeplot(data=sub, x='store_sales(in millions)', y='store_sqft',\n",
    "            palette=\"deep\", alpha=0.5, levels=10, fill=True)"
   ]
  },
  {
   "cell_type": "markdown",
   "id": "d2fa52c7",
   "metadata": {},
   "source": [
    "## Question 9. What is the average sales per squre foot area?"
   ]
  },
  {
   "cell_type": "code",
   "execution_count": 29,
   "id": "2232404d",
   "metadata": {},
   "outputs": [
    {
     "data": {
      "text/plain": [
       "242.8"
      ]
     },
     "execution_count": 29,
     "metadata": {},
     "output_type": "execute_result"
    }
   ],
   "source": [
    "round(((df['store_sales(in millions)'] * 1_000_000) / df['store_sqft']).mean(), 1)"
   ]
  },
  {
   "cell_type": "markdown",
   "id": "30b8ed4d",
   "metadata": {},
   "source": [
    "## Interestingly, the marketing costs in  stores with >=10 mln sales is not much different from the costs in stores with lower <10mln sales"
   ]
  },
  {
   "cell_type": "code",
   "execution_count": 30,
   "id": "fba710fc",
   "metadata": {},
   "outputs": [
    {
     "data": {
      "text/plain": [
       "99.60226463674017"
      ]
     },
     "execution_count": 30,
     "metadata": {},
     "output_type": "execute_result"
    }
   ],
   "source": [
    "df[df['store_sales(in millions)'] >= 10]['cost'].mean()"
   ]
  },
  {
   "cell_type": "code",
   "execution_count": 31,
   "id": "b5480421",
   "metadata": {},
   "outputs": [
    {
     "data": {
      "text/plain": [
       "99.26912514730145"
      ]
     },
     "execution_count": 31,
     "metadata": {},
     "output_type": "execute_result"
    }
   ],
   "source": [
    "df[df['store_sales(in millions)'] < 10]['cost'].mean()"
   ]
  },
  {
   "cell_type": "markdown",
   "id": "0e2dcd7c",
   "metadata": {},
   "source": [
    "## Question 10. Is there any dependence between size of the store in square feet and the cost of marketing?\n",
    "\n",
    "Select all that apply\n"
   ]
  },
  {
   "cell_type": "code",
   "execution_count": 32,
   "id": "9e670cda",
   "metadata": {},
   "outputs": [
    {
     "name": "stderr",
     "output_type": "stream",
     "text": [
      "/var/folders/03/8g_v72pd32vfbhfq91cfy1780000gn/T/ipykernel_79169/3062974378.py:4: UserWarning: Ignoring `palette` because no `hue` variable has been assigned.\n",
      "  sns.kdeplot(data=sub, x='cost', y='store_sqft',\n"
     ]
    },
    {
     "data": {
      "text/plain": [
       "<Axes: xlabel='cost', ylabel='store_sqft'>"
      ]
     },
     "execution_count": 32,
     "metadata": {},
     "output_type": "execute_result"
    },
    {
     "data": {
      "image/png": "[encoded data removed]",
      "text/plain": [
       "<Figure size 640x480 with 1 Axes>"
      ]
     },
     "metadata": {},
     "output_type": "display_data"
    }
   ],
   "source": [
    "sub = df[['cost','store_sqft']].drop_duplicates()\n",
    "\n",
    "plt.scatter(sub['cost'], sub['store_sqft'], s=3, alpha=0.6)\n",
    "sns.kdeplot(data=sub, x='cost', y='store_sqft',\n",
    "            palette=\"deep\", alpha=0.5, levels=10, fill=True)"
   ]
  },
  {
   "cell_type": "code",
   "execution_count": 34,
   "id": "8ce4fbba",
   "metadata": {},
   "outputs": [
    {
     "name": "stdout",
     "output_type": "stream",
     "text": [
      "Little store cost per sqft: 0.00434\n",
      "Big store cost per sqft: 0.00299\n"
     ]
    }
   ],
   "source": [
    "sqft_50 = df['store_sqft'].quantile(0.5)\n",
    "littel_stores = df[df['store_sqft'] <= sqft_50]\n",
    "big_stores = df[df['store_sqft'] > sqft_50]\n",
    "big_store_cost_per = (big_stores['cost'] / big_stores['store_sqft']).mean()\n",
    "littel_stores_cost_per = (littel_stores['cost'] / littel_stores['store_sqft']).mean()\n",
    "print(f\"Little store cost per sqft: {round(littel_stores_cost_per, 5)}\")\n",
    "print(f\"Big store cost per sqft: {round(big_store_cost_per, 5)}\")"
   ]
  },
  {
   "cell_type": "code",
   "execution_count": 35,
   "id": "b9d93d2f",
   "metadata": {},
   "outputs": [
    {
     "name": "stdout",
     "output_type": "stream",
     "text": [
      "Marketing costs for little stores: 99.81\n",
      "Marketing costs for little stores: 98.77\n",
      "The difference in marketing costs between small and large stores: 1.05%\n"
     ]
    }
   ],
   "source": [
    "print(f\"Marketing costs for little stores: {round(littel_stores['cost'].mean(), 2)}\")\n",
    "print(f\"Marketing costs for little stores: {round(big_stores['cost'].mean(), 2)}\")\n",
    "dif_percent =  round(\n",
    "    (littel_stores['cost'].mean() - big_stores['cost'].mean()) / big_stores['cost'].mean() * 100, 2)\n",
    "print(f\"The difference in marketing costs between small and large stores: {dif_percent}%\")"
   ]
  },
  {
   "cell_type": "markdown",
   "id": "8f8a5844",
   "metadata": {},
   "source": [
    "## Let's investigate the stores with the smallest cost to aqcuire a customers"
   ]
  },
  {
   "cell_type": "code",
   "execution_count": 36,
   "id": "28e5947b",
   "metadata": {},
   "outputs": [
    {
     "data": {
      "text/plain": [
       "50.79"
      ]
     },
     "execution_count": 36,
     "metadata": {},
     "output_type": "execute_result"
    }
   ],
   "source": [
    "df.cost.min()"
   ]
  },
  {
   "cell_type": "code",
   "execution_count": 37,
   "id": "346a09fa",
   "metadata": {},
   "outputs": [],
   "source": [
    "sub = df.query('cost==50.79')"
   ]
  },
  {
   "cell_type": "code",
   "execution_count": 38,
   "id": "1e98cb18",
   "metadata": {},
   "outputs": [],
   "source": [
    "store_columns = [\n",
    "    'store_sales(in millions)','unit_sales(in millions)',\n",
    "    'store_sqft','coffee_bar','video_store',\n",
    "    'salad_bar','prepared_food','florist'\n",
    "]"
   ]
  },
  {
   "cell_type": "markdown",
   "id": "1422c6c7",
   "metadata": {},
   "source": [
    "First, these are mostly small stores with sales under 10mln"
   ]
  },
  {
   "cell_type": "code",
   "execution_count": 39,
   "id": "2a7d01bf",
   "metadata": {},
   "outputs": [
    {
     "data": {
      "image/png": "[encoded data removed]",
      "text/plain": [
       "<Figure size 640x480 with 1 Axes>"
      ]
     },
     "metadata": {},
     "output_type": "display_data"
    }
   ],
   "source": [
    "sns.histplot(sub['store_sales(in millions)'], kde=True, bins=20)\n",
    "plt.title(f'Distribution of store sales, in millions $');"
   ]
  },
  {
   "cell_type": "code",
   "execution_count": 40,
   "id": "a2f63d9c",
   "metadata": {},
   "outputs": [
    {
     "data": {
      "text/plain": [
       "(27694.0, 0.0)"
      ]
     },
     "execution_count": 40,
     "metadata": {},
     "output_type": "execute_result"
    }
   ],
   "source": [
    "sub['store_sqft'].mean(), sub['store_sqft'].std() "
   ]
  },
  {
   "cell_type": "code",
   "execution_count": 41,
   "id": "f7c893cb",
   "metadata": {},
   "outputs": [
    {
     "data": {
      "text/plain": [
       "array([27694.])"
      ]
     },
     "execution_count": 41,
     "metadata": {},
     "output_type": "execute_result"
    }
   ],
   "source": [
    "sub['store_sqft'].unique()"
   ]
  },
  {
   "cell_type": "markdown",
   "id": "e01e1cce",
   "metadata": {},
   "source": [
    "Second, it seems they all have **all** additional services"
   ]
  },
  {
   "cell_type": "code",
   "execution_count": 42,
   "id": "48c5f56e",
   "metadata": {},
   "outputs": [
    {
     "name": "stdout",
     "output_type": "stream",
     "text": [
      "coffee_bar [1.]\n",
      "video_store [1.]\n",
      "salad_bar [1.]\n",
      "prepared_food [1.]\n",
      "florist [1.]\n"
     ]
    }
   ],
   "source": [
    "for col in ['coffee_bar','video_store',\n",
    "    'salad_bar','prepared_food','florist']:\n",
    "    print(col, sub[col].unique())"
   ]
  },
  {
   "cell_type": "markdown",
   "id": "8f9d0fa4",
   "metadata": {},
   "source": [
    "## What about stores with the largest cost to aqcuire a customers?"
   ]
  },
  {
   "cell_type": "code",
   "execution_count": 43,
   "id": "827d23df",
   "metadata": {},
   "outputs": [
    {
     "data": {
      "text/plain": [
       "149.75"
      ]
     },
     "execution_count": 43,
     "metadata": {},
     "output_type": "execute_result"
    }
   ],
   "source": [
    "df.cost.max()"
   ]
  },
  {
   "cell_type": "code",
   "execution_count": 44,
   "id": "c92020d9",
   "metadata": {},
   "outputs": [],
   "source": [
    "sub = df.query('cost==149.75')"
   ]
  },
  {
   "cell_type": "code",
   "execution_count": 45,
   "id": "724761af",
   "metadata": {},
   "outputs": [
    {
     "data": {
      "image/png": "[encoded data removed]",
      "text/plain": [
       "<Figure size 640x480 with 1 Axes>"
      ]
     },
     "metadata": {},
     "output_type": "display_data"
    }
   ],
   "source": [
    "sns.histplot(sub['store_sales(in millions)'], kde=True, bins=20)\n",
    "plt.title(f'Distribution of store sales, in millions $');"
   ]
  },
  {
   "cell_type": "code",
   "execution_count": 46,
   "id": "74c60825",
   "metadata": {},
   "outputs": [
    {
     "data": {
      "text/plain": [
       "(23688.0, 0.0)"
      ]
     },
     "execution_count": 46,
     "metadata": {},
     "output_type": "execute_result"
    }
   ],
   "source": [
    "sub['store_sqft'].mean(), sub['store_sqft'].std() "
   ]
  },
  {
   "cell_type": "code",
   "execution_count": 47,
   "id": "7fb1fe96",
   "metadata": {},
   "outputs": [
    {
     "name": "stdout",
     "output_type": "stream",
     "text": [
      "coffee_bar [1.]\n",
      "video_store [1.]\n",
      "salad_bar [1.]\n",
      "prepared_food [1.]\n",
      "florist [1.]\n"
     ]
    }
   ],
   "source": [
    "for col in ['coffee_bar','video_store',\n",
    "    'salad_bar','prepared_food','florist']:\n",
    "    print(col, sub[col].unique())"
   ]
  },
  {
   "cell_type": "markdown",
   "id": "933d2ded",
   "metadata": {},
   "source": [
    "They are also mostly small stores with under 10mln sales and all services included. It seems that the difference is not explained by the stores. Could it be explained by customers?"
   ]
  },
  {
   "cell_type": "markdown",
   "id": "ff8ff19f",
   "metadata": {},
   "source": [
    "## Question 10. Do distribution of number of kids vary for the lowest cost and largest cost rows?\n",
    "\n",
    "1. Try using `countplot` instead of `histplot`.\n",
    "2. Use total number of kids (instead of kids at home)"
   ]
  },
  {
   "cell_type": "code",
   "execution_count": 54,
   "id": "08cb052f",
   "metadata": {},
   "outputs": [],
   "source": [
    "sub_max_cost = df[df['cost'] == df.cost.max()]\n",
    "sub_min_cost = df[df['cost'] == df.cost.min()]"
   ]
  },
  {
   "cell_type": "code",
   "execution_count": 58,
   "id": "0d938044",
   "metadata": {},
   "outputs": [
    {
     "data": {
      "image/png": "[encoded data removed]",
      "text/plain": [
       "<Figure size 640x480 with 1 Axes>"
      ]
     },
     "metadata": {},
     "output_type": "display_data"
    }
   ],
   "source": [
    "sns.countplot(x=sub_max_cost['total_children'])\n",
    "plt.title(f'Distribution of total children for max cost');"
   ]
  },
  {
   "cell_type": "code",
   "execution_count": 60,
   "id": "32a39ef1",
   "metadata": {},
   "outputs": [
    {
     "data": {
      "image/png": "[encoded data removed]",
      "text/plain": [
       "<Figure size 640x480 with 1 Axes>"
      ]
     },
     "metadata": {},
     "output_type": "display_data"
    }
   ],
   "source": [
    "sns.countplot(x=sub_min_cost['total_children'])\n",
    "plt.title(f'Distribution of total children for min cost');"
   ]
  },
  {
   "cell_type": "markdown",
   "id": "7614e2b8",
   "metadata": {},
   "source": [
    "## Feel free to investigate other features"
   ]
  },
  {
   "cell_type": "code",
   "execution_count": 64,
   "id": "8a837b33",
   "metadata": {},
   "outputs": [
    {
     "data": {
      "text/html": [
       "<div>\n",
       "<style scoped>\n",
       "    .dataframe tbody tr th:only-of-type {\n",
       "        vertical-align: middle;\n",
       "    }\n",
       "\n",
       "    .dataframe tbody tr th {\n",
       "        vertical-align: top;\n",
       "    }\n",
       "\n",
       "    .dataframe thead th {\n",
       "        text-align: right;\n",
       "    }\n",
       "</style>\n",
       "<table border=\"1\" class=\"dataframe\">\n",
       "  <thead>\n",
       "    <tr style=\"text-align: right;\">\n",
       "      <th></th>\n",
       "      <th>mean</th>\n",
       "      <th>median</th>\n",
       "      <th>std</th>\n",
       "    </tr>\n",
       "    <tr>\n",
       "      <th>total_children</th>\n",
       "      <th></th>\n",
       "      <th></th>\n",
       "      <th></th>\n",
       "    </tr>\n",
       "  </thead>\n",
       "  <tbody>\n",
       "    <tr>\n",
       "      <th>0.0</th>\n",
       "      <td>99.814923</td>\n",
       "      <td>98.81</td>\n",
       "      <td>29.705981</td>\n",
       "    </tr>\n",
       "    <tr>\n",
       "      <th>1.0</th>\n",
       "      <td>99.975659</td>\n",
       "      <td>98.81</td>\n",
       "      <td>30.307694</td>\n",
       "    </tr>\n",
       "    <tr>\n",
       "      <th>2.0</th>\n",
       "      <td>98.713164</td>\n",
       "      <td>97.13</td>\n",
       "      <td>30.277183</td>\n",
       "    </tr>\n",
       "    <tr>\n",
       "      <th>3.0</th>\n",
       "      <td>99.554904</td>\n",
       "      <td>99.38</td>\n",
       "      <td>30.132676</td>\n",
       "    </tr>\n",
       "    <tr>\n",
       "      <th>4.0</th>\n",
       "      <td>98.724865</td>\n",
       "      <td>97.45</td>\n",
       "      <td>29.773775</td>\n",
       "    </tr>\n",
       "    <tr>\n",
       "      <th>5.0</th>\n",
       "      <td>99.682351</td>\n",
       "      <td>99.38</td>\n",
       "      <td>29.504798</td>\n",
       "    </tr>\n",
       "  </tbody>\n",
       "</table>\n",
       "</div>"
      ],
      "text/plain": [
       "                     mean  median        std\n",
       "total_children                              \n",
       "0.0             99.814923   98.81  29.705981\n",
       "1.0             99.975659   98.81  30.307694\n",
       "2.0             98.713164   97.13  30.277183\n",
       "3.0             99.554904   99.38  30.132676\n",
       "4.0             98.724865   97.45  29.773775\n",
       "5.0             99.682351   99.38  29.504798"
      ]
     },
     "execution_count": 64,
     "metadata": {},
     "output_type": "execute_result"
    }
   ],
   "source": [
    "df.groupby('total_children')['cost'].agg(['mean', 'median', 'std'])"
   ]
  },
  {
   "cell_type": "markdown",
   "id": "58134d33",
   "metadata": {},
   "source": [
    "# Build Machine Learning pipeline"
   ]
  },
  {
   "cell_type": "markdown",
   "id": "dcb661ae",
   "metadata": {},
   "source": [
    "- What are the proper performance metrics for this task?\n",
    "- Compare cross-validation performance of 5 ML models\n",
    "- Compute models' performance on test set\n",
    "- Analyse the generalizability of the model by comparing its performance on train and test sets\n",
    "- Comment on whether the resulting model is \"good\" or \"bad\" from business point of view"
   ]
  },
  {
   "cell_type": "markdown",
   "id": "cb798665",
   "metadata": {},
   "source": [
    "## Question 11. What are the proper performance metrics for this task?\n"
   ]
  },
  {
   "cell_type": "code",
   "execution_count": null,
   "id": "fe30bc3f",
   "metadata": {},
   "outputs": [],
   "source": []
  },
  {
   "cell_type": "markdown",
   "id": "81ffa93c",
   "metadata": {},
   "source": [
    "## Split your data into Train and Test subsets using `train_test_split`, use 70% to 30% ratio for train and test.\n",
    "\n",
    "## Question 12.  How many observations are in your `train` set?\n"
   ]
  },
  {
   "cell_type": "code",
   "execution_count": null,
   "id": "fe248c1f",
   "metadata": {},
   "outputs": [],
   "source": []
  },
  {
   "cell_type": "code",
   "execution_count": null,
   "id": "2c63dd6c",
   "metadata": {},
   "outputs": [],
   "source": []
  },
  {
   "cell_type": "markdown",
   "id": "ba0a2d32",
   "metadata": {},
   "source": [
    "## We will compare the performance of 5 ML models:\n",
    "\n",
    "1. Linear Regression\n",
    "2. Decision Tree\n",
    "3. Random Forest\n",
    "4. KNN\n",
    "5. Gradient Boosting"
   ]
  },
  {
   "cell_type": "code",
   "execution_count": null,
   "id": "f72c7877",
   "metadata": {},
   "outputs": [],
   "source": []
  },
  {
   "cell_type": "markdown",
   "id": "9751277c",
   "metadata": {},
   "source": [
    "## Question 13. Which of the models require feature standartization?\n"
   ]
  },
  {
   "cell_type": "code",
   "execution_count": null,
   "id": "c911b094",
   "metadata": {},
   "outputs": [],
   "source": []
  },
  {
   "cell_type": "markdown",
   "id": "11a26388",
   "metadata": {},
   "source": [
    "## We will use `GridSearchCV` method to run 5 fold cross-validation and select models' hyperparameters\n",
    "\n",
    "see example below (on Iris dataset)\n",
    "\n",
    "https://scikit-learn.org/stable/modules/generated/sklearn.model_selection.GridSearchCV.html"
   ]
  },
  {
   "cell_type": "code",
   "execution_count": 48,
   "id": "daec05ee",
   "metadata": {},
   "outputs": [
    {
     "name": "stdout",
     "output_type": "stream",
     "text": [
      "0.9800000000000001\n"
     ]
    }
   ],
   "source": [
    "from sklearn import svm, datasets\n",
    "from sklearn.model_selection import GridSearchCV\n",
    "\n",
    "iris = datasets.load_iris()\n",
    "\n",
    "parameters = {'kernel':('linear', 'rbf'), 'C':[1, 10]}\n",
    "\n",
    "svc = svm.SVC()\n",
    "clf = GridSearchCV(svc, parameters, cv=5, scoring='accuracy', refit=True)\n",
    "clf.fit(iris.data, iris.target)\n",
    "print(clf.best_score_)"
   ]
  },
  {
   "cell_type": "code",
   "execution_count": null,
   "id": "ecb22821",
   "metadata": {},
   "outputs": [],
   "source": []
  },
  {
   "cell_type": "markdown",
   "id": "0a673d5a",
   "metadata": {},
   "source": [
    "## Explore hyperparameters of different ML models\n",
    "\n",
    "## Question 14. What does `fit_intercept` parameter responcible for in Linear Regression?\n"
   ]
  },
  {
   "cell_type": "code",
   "execution_count": 49,
   "id": "9db10dc3",
   "metadata": {},
   "outputs": [],
   "source": [
    "from sklearn.linear_model import LinearRegression"
   ]
  },
  {
   "cell_type": "code",
   "execution_count": null,
   "id": "e3a146b9",
   "metadata": {},
   "outputs": [],
   "source": []
  },
  {
   "cell_type": "markdown",
   "id": "c9dcafbc",
   "metadata": {},
   "source": [
    "Train Linear Regression model using GridSearchCV, compare models with `fit_intercept=True` and `fit_intercept=False` "
   ]
  },
  {
   "cell_type": "markdown",
   "id": "7f5ee109",
   "metadata": {},
   "source": [
    "## Question 15. What does `max_depth` and `min_samples_split` responcible for in Decision Tree Regressor?\n"
   ]
  },
  {
   "cell_type": "code",
   "execution_count": 50,
   "id": "e501897b",
   "metadata": {},
   "outputs": [],
   "source": [
    "from sklearn.tree import DecisionTreeRegressor"
   ]
  },
  {
   "cell_type": "code",
   "execution_count": null,
   "id": "369142e8",
   "metadata": {},
   "outputs": [],
   "source": []
  },
  {
   "cell_type": "markdown",
   "id": "414512a5",
   "metadata": {},
   "source": [
    "Train Decision Tree Regressor model using GridSearchCV, ask ChatGPT for reasonable set of hyperparameters (`max_depth` and `min_samples_split`) values for search."
   ]
  },
  {
   "cell_type": "markdown",
   "id": "8c8d8055",
   "metadata": {},
   "source": [
    "## Question 16. What does `n_estimators` and `max_depth` responcible for in Random Forest Regressor?\n"
   ]
  },
  {
   "cell_type": "code",
   "execution_count": 51,
   "id": "fe8c73e8",
   "metadata": {},
   "outputs": [],
   "source": [
    "from sklearn.ensemble import RandomForestRegressor"
   ]
  },
  {
   "cell_type": "code",
   "execution_count": null,
   "id": "fc4cec91",
   "metadata": {},
   "outputs": [],
   "source": []
  },
  {
   "cell_type": "markdown",
   "id": "2dc574ea",
   "metadata": {},
   "source": [
    "Train Random Forest Regressor model using GridSearchCV, ask ChatGPT for reasonable set of hyperparameters (`max_depth` and `n_estimators`) values for search.\n"
   ]
  },
  {
   "cell_type": "markdown",
   "id": "ec7b119f",
   "metadata": {},
   "source": [
    "## Question 17. What does `n_neighbors` responcible for in K Neighbors Regressor?\n"
   ]
  },
  {
   "cell_type": "code",
   "execution_count": 52,
   "id": "3e1b7ba9",
   "metadata": {},
   "outputs": [],
   "source": [
    "from sklearn.neighbors import KNeighborsRegressor"
   ]
  },
  {
   "cell_type": "code",
   "execution_count": null,
   "id": "b8ec6039",
   "metadata": {},
   "outputs": [],
   "source": []
  },
  {
   "cell_type": "markdown",
   "id": "24818de3",
   "metadata": {},
   "source": [
    "Train KNeighborsRegressor model using GridSearchCV, ask ChatGPT for reasonable set of hyperparameter `n_neighbors` values for search."
   ]
  },
  {
   "cell_type": "markdown",
   "id": "9b0be221",
   "metadata": {},
   "source": [
    "## Question 18. How `n_neighbors` affects KNN performance?\n"
   ]
  },
  {
   "cell_type": "code",
   "execution_count": null,
   "id": "8c09f25d",
   "metadata": {},
   "outputs": [],
   "source": []
  },
  {
   "cell_type": "markdown",
   "id": "ec3369f0",
   "metadata": {},
   "source": [
    "## Question 19. How `learning_rate` and `n_estimators` affect Gradient Boosting Regressor performance?\n"
   ]
  },
  {
   "cell_type": "code",
   "execution_count": 53,
   "id": "cadda585",
   "metadata": {},
   "outputs": [],
   "source": [
    "from sklearn.ensemble import GradientBoostingRegressor"
   ]
  },
  {
   "cell_type": "code",
   "execution_count": null,
   "id": "adcec8f1",
   "metadata": {},
   "outputs": [],
   "source": []
  },
  {
   "cell_type": "markdown",
   "id": "1cd16302",
   "metadata": {},
   "source": [
    "Train Gradient Boosting Regressor model using GridSearchCV, ask ChatGPT for reasonable set of hyperparameters `learning_rate`, `n_estimators` and `max_depth` values for search. "
   ]
  },
  {
   "cell_type": "markdown",
   "id": "13dfc8cf",
   "metadata": {},
   "source": [
    "## Question 20. Test 5 ML models performance on Test set, which model perform the best?\n",
    "\n",
    "\n",
    "- Linear Regression\n",
    "- Decision Tree\n",
    "- Random Forest\n",
    "- KNN\n",
    "- Gradient Boosting\n"
   ]
  },
  {
   "cell_type": "code",
   "execution_count": null,
   "id": "c61441f7",
   "metadata": {},
   "outputs": [],
   "source": []
  },
  {
   "cell_type": "markdown",
   "id": "00006ff5",
   "metadata": {},
   "source": [
    "## Question 21. What is the `MAE` of the best perfroming model? (report `MAE` with 2 decimal places)"
   ]
  },
  {
   "cell_type": "code",
   "execution_count": null,
   "id": "90738cb5",
   "metadata": {},
   "outputs": [],
   "source": []
  },
  {
   "cell_type": "markdown",
   "id": "996f6291",
   "metadata": {},
   "source": [
    "## Question 22. Comment on whether the resulting model is \"good\" or \"bad\" from business point of view, given that the mean cost is 99$"
   ]
  },
  {
   "cell_type": "code",
   "execution_count": null,
   "id": "07c10851",
   "metadata": {},
   "outputs": [],
   "source": []
  },
  {
   "cell_type": "markdown",
   "id": "e6704522",
   "metadata": {},
   "source": [
    "## Upload your Jupyter Notebook or Orange project."
   ]
  },
  {
   "cell_type": "code",
   "execution_count": null,
   "id": "9277a482",
   "metadata": {},
   "outputs": [],
   "source": []
  },
  {
   "cell_type": "code",
   "execution_count": null,
   "id": "387028aa",
   "metadata": {},
   "outputs": [],
   "source": []
  }
 ],
 "metadata": {
  "kernelspec": {
   "display_name": "Python 3 (ipykernel)",
   "language": "python",
   "name": "python3"
  },
  "language_info": {
   "codemirror_mode": {
    "name": "ipython",
    "version": 3
   },
   "file_extension": ".py",
   "mimetype": "text/x-python",
   "name": "python",
   "nbconvert_exporter": "python",
   "pygments_lexer": "ipython3",
   "version": "3.9.12"
  }
 },
 "nbformat": 4,
 "nbformat_minor": 5
}
